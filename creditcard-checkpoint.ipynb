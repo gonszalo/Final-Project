{
 "cells": [
  {
   "cell_type": "code",
   "execution_count": 1,
   "id": "e295606c",
   "metadata": {},
   "outputs": [],
   "source": [
    "#'reference: https://www.kaggle.com/mlg-ulb/creditcardfraud'\n",
    "        "
   ]
  },
  {
   "cell_type": "code",
   "execution_count": 2,
   "id": "a66aa7e6",
   "metadata": {},
   "outputs": [],
   "source": [
    "import numpy as np\n",
    "import scipy as sp\n",
    "import pandas as pd\n",
    "import matplotlib as mpl\n",
    "import matplotlib.pyplot as plt\n",
    "import seaborn as sns"
   ]
  },
  {
   "cell_type": "code",
   "execution_count": 3,
   "id": "6e6ca1c8",
   "metadata": {},
   "outputs": [],
   "source": [
    "pd.set_option('display.max_colwidth', 1000, 'display.max_rows', None, 'display.max_columns', None)"
   ]
  },
  {
   "cell_type": "code",
   "execution_count": 4,
   "id": "8e81f546",
   "metadata": {},
   "outputs": [],
   "source": [
    "%matplotlib inline\n",
    "mpl.style.use('ggplot')\n",
    "sns.set(style='whitegrid')"
   ]
  },
  {
   "cell_type": "code",
   "execution_count": 5,
   "id": "c55ab1e3",
   "metadata": {},
   "outputs": [],
   "source": [
    "#read in the data into a pandas dataframe.\n",
    "\n",
    "transactions = pd.read_csv('creditcard.csv')"
   ]
  },
  {
   "cell_type": "code",
   "execution_count": 6,
   "id": "e82a6bca",
   "metadata": {},
   "outputs": [
    {
     "data": {
      "text/plain": [
       "(284807, 31)"
      ]
     },
     "execution_count": 6,
     "metadata": {},
     "output_type": "execute_result"
    }
   ],
   "source": [
    "#Check basic metadata.\n",
    "\n",
    "transactions.shape"
   ]
  },
  {
   "cell_type": "code",
   "execution_count": 7,
   "id": "acdd437c",
   "metadata": {},
   "outputs": [],
   "source": [
    "#'In this project we analyze a dataset of credit card transactions made over a two-day period in September 2013 by European cardholders. The dataset contains 284,807 transactions, of which 492 (0.17%) are fraudulent.'\n",
    "\n",
    "#'Each transaction has 30 features, all of which are numerical. The features V1, V2, ..., V28 are the result of a PCA transformation. To protect confidentiality, background information on these features is not available. The Time feature contains the time elapsed since the first transaction, and the Amount feature contains the transaction amount. The response variable, Class, is 1 in the case of fraud, and 0 otherwise.''\n",
    "\n",
    "#'Our goal in this project is to construct models to predict whether a credit card transaction is fraudulent. We'll attempt a supervised learning approach. We'll also create visualizations to help us understand the structure of the data and unearth any interesting patterns.'\n",
    "\n",
    "#Principal Component Analysis (PCA) is an exploratory data analysis tool that allows you to visualize the variation present in a data set with many variables.\n",
    "\n"
   ]
  },
  {
   "cell_type": "code",
   "execution_count": null,
   "id": "fadd2eda",
   "metadata": {},
   "outputs": [],
   "source": [
    "#Number of seconds elapsed between this transaction and the first transaction in the dataset\n",
    "#may be result of a PCA Dimensionality reduction to protect user identities and sensitive features(v1-v28)"
   ]
  },
  {
   "cell_type": "code",
   "execution_count": 8,
   "id": "197a3544",
   "metadata": {},
   "outputs": [
    {
     "name": "stdout",
     "output_type": "stream",
     "text": [
      "<class 'pandas.core.frame.DataFrame'>\n",
      "RangeIndex: 284807 entries, 0 to 284806\n",
      "Data columns (total 31 columns):\n",
      " #   Column  Non-Null Count   Dtype  \n",
      "---  ------  --------------   -----  \n",
      " 0   Time    284807 non-null  float64\n",
      " 1   V1      284807 non-null  float64\n",
      " 2   V2      284807 non-null  float64\n",
      " 3   V3      284807 non-null  float64\n",
      " 4   V4      284807 non-null  float64\n",
      " 5   V5      284807 non-null  float64\n",
      " 6   V6      284807 non-null  float64\n",
      " 7   V7      284807 non-null  float64\n",
      " 8   V8      284807 non-null  float64\n",
      " 9   V9      284807 non-null  float64\n",
      " 10  V10     284807 non-null  float64\n",
      " 11  V11     284807 non-null  float64\n",
      " 12  V12     284807 non-null  float64\n",
      " 13  V13     284807 non-null  float64\n",
      " 14  V14     284807 non-null  float64\n",
      " 15  V15     284807 non-null  float64\n",
      " 16  V16     284807 non-null  float64\n",
      " 17  V17     284807 non-null  float64\n",
      " 18  V18     284807 non-null  float64\n",
      " 19  V19     284807 non-null  float64\n",
      " 20  V20     284807 non-null  float64\n",
      " 21  V21     284807 non-null  float64\n",
      " 22  V22     284807 non-null  float64\n",
      " 23  V23     284807 non-null  float64\n",
      " 24  V24     284807 non-null  float64\n",
      " 25  V25     284807 non-null  float64\n",
      " 26  V26     284807 non-null  float64\n",
      " 27  V27     284807 non-null  float64\n",
      " 28  V28     284807 non-null  float64\n",
      " 29  Amount  284807 non-null  float64\n",
      " 30  Class   284807 non-null  int64  \n",
      "dtypes: float64(30), int64(1)\n",
      "memory usage: 67.4 MB\n"
     ]
    }
   ],
   "source": [
    "transactions.info()"
   ]
  },
  {
   "cell_type": "code",
   "execution_count": 9,
   "id": "7e2ee964",
   "metadata": {},
   "outputs": [
    {
     "data": {
      "text/plain": [
       "False"
      ]
     },
     "execution_count": 9,
     "metadata": {},
     "output_type": "execute_result"
    }
   ],
   "source": [
    "#Are there any variables with missing data?\n",
    "\n",
    "transactions.isnull().any().any()"
   ]
  },
  {
   "cell_type": "code",
   "execution_count": 10,
   "id": "37304b05",
   "metadata": {},
   "outputs": [
    {
     "data": {
      "text/html": [
       "<div>\n",
       "<style scoped>\n",
       "    .dataframe tbody tr th:only-of-type {\n",
       "        vertical-align: middle;\n",
       "    }\n",
       "\n",
       "    .dataframe tbody tr th {\n",
       "        vertical-align: top;\n",
       "    }\n",
       "\n",
       "    .dataframe thead th {\n",
       "        text-align: right;\n",
       "    }\n",
       "</style>\n",
       "<table border=\"1\" class=\"dataframe\">\n",
       "  <thead>\n",
       "    <tr style=\"text-align: right;\">\n",
       "      <th></th>\n",
       "      <th>Time</th>\n",
       "      <th>V1</th>\n",
       "      <th>V2</th>\n",
       "      <th>V3</th>\n",
       "      <th>V4</th>\n",
       "      <th>V5</th>\n",
       "      <th>V6</th>\n",
       "      <th>V7</th>\n",
       "      <th>V8</th>\n",
       "      <th>V9</th>\n",
       "      <th>V10</th>\n",
       "      <th>V11</th>\n",
       "      <th>V12</th>\n",
       "      <th>V13</th>\n",
       "      <th>V14</th>\n",
       "      <th>V15</th>\n",
       "      <th>V16</th>\n",
       "      <th>V17</th>\n",
       "      <th>V18</th>\n",
       "      <th>V19</th>\n",
       "      <th>V20</th>\n",
       "      <th>V21</th>\n",
       "      <th>V22</th>\n",
       "      <th>V23</th>\n",
       "      <th>V24</th>\n",
       "      <th>V25</th>\n",
       "      <th>V26</th>\n",
       "      <th>V27</th>\n",
       "      <th>V28</th>\n",
       "      <th>Amount</th>\n",
       "      <th>Class</th>\n",
       "    </tr>\n",
       "  </thead>\n",
       "  <tbody>\n",
       "    <tr>\n",
       "      <th>82419</th>\n",
       "      <td>59392.0</td>\n",
       "      <td>-7.881720</td>\n",
       "      <td>0.661841</td>\n",
       "      <td>-2.172809</td>\n",
       "      <td>0.926365</td>\n",
       "      <td>-4.455455</td>\n",
       "      <td>2.815812</td>\n",
       "      <td>-1.346946</td>\n",
       "      <td>-3.099993</td>\n",
       "      <td>-1.088321</td>\n",
       "      <td>1.388158</td>\n",
       "      <td>0.985244</td>\n",
       "      <td>0.951293</td>\n",
       "      <td>0.053957</td>\n",
       "      <td>1.216793</td>\n",
       "      <td>1.637736</td>\n",
       "      <td>-0.898347</td>\n",
       "      <td>1.049918</td>\n",
       "      <td>1.449233</td>\n",
       "      <td>-0.663588</td>\n",
       "      <td>-2.451011</td>\n",
       "      <td>-0.091951</td>\n",
       "      <td>0.064439</td>\n",
       "      <td>-0.182132</td>\n",
       "      <td>-0.227383</td>\n",
       "      <td>-0.180475</td>\n",
       "      <td>-0.378577</td>\n",
       "      <td>-3.294264</td>\n",
       "      <td>-0.238304</td>\n",
       "      <td>310.00</td>\n",
       "      <td>0</td>\n",
       "    </tr>\n",
       "    <tr>\n",
       "      <th>11078</th>\n",
       "      <td>19138.0</td>\n",
       "      <td>-0.392880</td>\n",
       "      <td>0.169218</td>\n",
       "      <td>1.403773</td>\n",
       "      <td>-1.698019</td>\n",
       "      <td>0.369746</td>\n",
       "      <td>1.077011</td>\n",
       "      <td>-0.258275</td>\n",
       "      <td>0.416732</td>\n",
       "      <td>2.516133</td>\n",
       "      <td>-1.747782</td>\n",
       "      <td>0.501547</td>\n",
       "      <td>-2.470982</td>\n",
       "      <td>0.624692</td>\n",
       "      <td>1.547814</td>\n",
       "      <td>0.086375</td>\n",
       "      <td>-0.140986</td>\n",
       "      <td>0.064375</td>\n",
       "      <td>1.401540</td>\n",
       "      <td>1.122312</td>\n",
       "      <td>-0.097380</td>\n",
       "      <td>-0.087155</td>\n",
       "      <td>0.123811</td>\n",
       "      <td>-0.309643</td>\n",
       "      <td>-1.782198</td>\n",
       "      <td>-0.122432</td>\n",
       "      <td>-0.679587</td>\n",
       "      <td>0.182943</td>\n",
       "      <td>0.115903</td>\n",
       "      <td>15.30</td>\n",
       "      <td>0</td>\n",
       "    </tr>\n",
       "    <tr>\n",
       "      <th>62100</th>\n",
       "      <td>50128.0</td>\n",
       "      <td>-2.140820</td>\n",
       "      <td>0.116959</td>\n",
       "      <td>1.982065</td>\n",
       "      <td>0.354664</td>\n",
       "      <td>-0.487476</td>\n",
       "      <td>-0.188489</td>\n",
       "      <td>-0.895222</td>\n",
       "      <td>-0.417010</td>\n",
       "      <td>0.475468</td>\n",
       "      <td>-0.055442</td>\n",
       "      <td>0.836116</td>\n",
       "      <td>0.686560</td>\n",
       "      <td>-0.784895</td>\n",
       "      <td>-0.097682</td>\n",
       "      <td>-0.567039</td>\n",
       "      <td>0.289397</td>\n",
       "      <td>-0.176100</td>\n",
       "      <td>0.412666</td>\n",
       "      <td>0.406654</td>\n",
       "      <td>-0.669842</td>\n",
       "      <td>0.745238</td>\n",
       "      <td>-0.090637</td>\n",
       "      <td>-0.622954</td>\n",
       "      <td>0.614976</td>\n",
       "      <td>-0.516757</td>\n",
       "      <td>0.183912</td>\n",
       "      <td>-0.232483</td>\n",
       "      <td>-0.517144</td>\n",
       "      <td>18.42</td>\n",
       "      <td>0</td>\n",
       "    </tr>\n",
       "    <tr>\n",
       "      <th>184147</th>\n",
       "      <td>126115.0</td>\n",
       "      <td>-0.575465</td>\n",
       "      <td>0.601499</td>\n",
       "      <td>1.531239</td>\n",
       "      <td>-1.290013</td>\n",
       "      <td>0.550974</td>\n",
       "      <td>0.503227</td>\n",
       "      <td>0.629107</td>\n",
       "      <td>-0.024039</td>\n",
       "      <td>0.672182</td>\n",
       "      <td>0.231610</td>\n",
       "      <td>0.203438</td>\n",
       "      <td>-0.409709</td>\n",
       "      <td>-1.316948</td>\n",
       "      <td>-0.317080</td>\n",
       "      <td>-0.252452</td>\n",
       "      <td>0.659521</td>\n",
       "      <td>-1.192030</td>\n",
       "      <td>0.518347</td>\n",
       "      <td>0.295680</td>\n",
       "      <td>0.288639</td>\n",
       "      <td>-0.347874</td>\n",
       "      <td>-0.576457</td>\n",
       "      <td>-0.142423</td>\n",
       "      <td>0.148444</td>\n",
       "      <td>-0.388120</td>\n",
       "      <td>0.231108</td>\n",
       "      <td>0.081779</td>\n",
       "      <td>-0.205006</td>\n",
       "      <td>9.99</td>\n",
       "      <td>0</td>\n",
       "    </tr>\n",
       "    <tr>\n",
       "      <th>62421</th>\n",
       "      <td>50259.0</td>\n",
       "      <td>1.248097</td>\n",
       "      <td>0.334858</td>\n",
       "      <td>0.299664</td>\n",
       "      <td>0.697775</td>\n",
       "      <td>-0.383641</td>\n",
       "      <td>-1.073900</td>\n",
       "      <td>0.086556</td>\n",
       "      <td>-0.200093</td>\n",
       "      <td>0.044926</td>\n",
       "      <td>-0.282118</td>\n",
       "      <td>-0.080455</td>\n",
       "      <td>0.189764</td>\n",
       "      <td>0.141176</td>\n",
       "      <td>-0.269535</td>\n",
       "      <td>1.103839</td>\n",
       "      <td>0.483037</td>\n",
       "      <td>-0.000195</td>\n",
       "      <td>-0.287906</td>\n",
       "      <td>-0.199243</td>\n",
       "      <td>-0.077676</td>\n",
       "      <td>-0.286028</td>\n",
       "      <td>-0.839103</td>\n",
       "      <td>0.126696</td>\n",
       "      <td>0.343246</td>\n",
       "      <td>0.211636</td>\n",
       "      <td>0.094241</td>\n",
       "      <td>-0.024426</td>\n",
       "      <td>0.031373</td>\n",
       "      <td>5.99</td>\n",
       "      <td>0</td>\n",
       "    </tr>\n",
       "    <tr>\n",
       "      <th>34099</th>\n",
       "      <td>37512.0</td>\n",
       "      <td>1.106922</td>\n",
       "      <td>0.120453</td>\n",
       "      <td>0.202674</td>\n",
       "      <td>1.113945</td>\n",
       "      <td>-0.183392</td>\n",
       "      <td>-0.493955</td>\n",
       "      <td>0.165934</td>\n",
       "      <td>-0.074572</td>\n",
       "      <td>0.060515</td>\n",
       "      <td>-0.034784</td>\n",
       "      <td>-0.269360</td>\n",
       "      <td>-0.031084</td>\n",
       "      <td>-0.590630</td>\n",
       "      <td>0.543359</td>\n",
       "      <td>1.240884</td>\n",
       "      <td>-0.210283</td>\n",
       "      <td>-0.113084</td>\n",
       "      <td>-0.520182</td>\n",
       "      <td>-0.740875</td>\n",
       "      <td>-0.113817</td>\n",
       "      <td>0.077930</td>\n",
       "      <td>0.168294</td>\n",
       "      <td>-0.105275</td>\n",
       "      <td>0.073204</td>\n",
       "      <td>0.577401</td>\n",
       "      <td>-0.301970</td>\n",
       "      <td>0.017279</td>\n",
       "      <td>0.024172</td>\n",
       "      <td>52.92</td>\n",
       "      <td>0</td>\n",
       "    </tr>\n",
       "    <tr>\n",
       "      <th>185633</th>\n",
       "      <td>126754.0</td>\n",
       "      <td>-2.853733</td>\n",
       "      <td>2.280346</td>\n",
       "      <td>-1.677472</td>\n",
       "      <td>-0.534624</td>\n",
       "      <td>-1.018445</td>\n",
       "      <td>-0.467130</td>\n",
       "      <td>-0.761792</td>\n",
       "      <td>-2.209956</td>\n",
       "      <td>-0.060109</td>\n",
       "      <td>-0.266996</td>\n",
       "      <td>-1.166009</td>\n",
       "      <td>1.540499</td>\n",
       "      <td>1.431729</td>\n",
       "      <td>0.775535</td>\n",
       "      <td>-0.622268</td>\n",
       "      <td>0.309342</td>\n",
       "      <td>0.219696</td>\n",
       "      <td>-0.766071</td>\n",
       "      <td>-0.210387</td>\n",
       "      <td>-0.861087</td>\n",
       "      <td>2.793252</td>\n",
       "      <td>-1.661814</td>\n",
       "      <td>0.324820</td>\n",
       "      <td>-0.022108</td>\n",
       "      <td>-0.256682</td>\n",
       "      <td>0.174601</td>\n",
       "      <td>0.396692</td>\n",
       "      <td>-0.102386</td>\n",
       "      <td>89.99</td>\n",
       "      <td>0</td>\n",
       "    </tr>\n",
       "    <tr>\n",
       "      <th>163856</th>\n",
       "      <td>116254.0</td>\n",
       "      <td>-0.477512</td>\n",
       "      <td>0.688751</td>\n",
       "      <td>1.367258</td>\n",
       "      <td>0.173516</td>\n",
       "      <td>0.326060</td>\n",
       "      <td>0.076998</td>\n",
       "      <td>0.942416</td>\n",
       "      <td>0.100978</td>\n",
       "      <td>0.258596</td>\n",
       "      <td>-1.023961</td>\n",
       "      <td>-1.190742</td>\n",
       "      <td>0.670110</td>\n",
       "      <td>0.001692</td>\n",
       "      <td>-0.449750</td>\n",
       "      <td>-1.985872</td>\n",
       "      <td>-0.391375</td>\n",
       "      <td>-0.222236</td>\n",
       "      <td>-0.985130</td>\n",
       "      <td>-0.671903</td>\n",
       "      <td>-0.155966</td>\n",
       "      <td>-0.366437</td>\n",
       "      <td>-0.951586</td>\n",
       "      <td>0.287823</td>\n",
       "      <td>1.000661</td>\n",
       "      <td>-0.604004</td>\n",
       "      <td>-1.329589</td>\n",
       "      <td>0.200691</td>\n",
       "      <td>0.211608</td>\n",
       "      <td>53.98</td>\n",
       "      <td>0</td>\n",
       "    </tr>\n",
       "    <tr>\n",
       "      <th>111401</th>\n",
       "      <td>72217.0</td>\n",
       "      <td>-1.413173</td>\n",
       "      <td>1.311766</td>\n",
       "      <td>1.092362</td>\n",
       "      <td>-0.913857</td>\n",
       "      <td>0.256048</td>\n",
       "      <td>0.288063</td>\n",
       "      <td>0.248990</td>\n",
       "      <td>0.722374</td>\n",
       "      <td>-0.503727</td>\n",
       "      <td>-0.487176</td>\n",
       "      <td>0.301010</td>\n",
       "      <td>-0.198521</td>\n",
       "      <td>-1.374489</td>\n",
       "      <td>0.802499</td>\n",
       "      <td>0.229499</td>\n",
       "      <td>0.777862</td>\n",
       "      <td>-0.682021</td>\n",
       "      <td>0.100874</td>\n",
       "      <td>-0.370613</td>\n",
       "      <td>-0.181557</td>\n",
       "      <td>-0.175743</td>\n",
       "      <td>-0.806810</td>\n",
       "      <td>-0.185776</td>\n",
       "      <td>-0.925115</td>\n",
       "      <td>0.246464</td>\n",
       "      <td>0.076333</td>\n",
       "      <td>-0.165136</td>\n",
       "      <td>0.027857</td>\n",
       "      <td>5.35</td>\n",
       "      <td>0</td>\n",
       "    </tr>\n",
       "    <tr>\n",
       "      <th>108708</th>\n",
       "      <td>71033.0</td>\n",
       "      <td>-3.170818</td>\n",
       "      <td>0.185735</td>\n",
       "      <td>-3.399852</td>\n",
       "      <td>3.761155</td>\n",
       "      <td>-2.148047</td>\n",
       "      <td>-1.598944</td>\n",
       "      <td>-2.519565</td>\n",
       "      <td>1.316215</td>\n",
       "      <td>-2.400106</td>\n",
       "      <td>-4.993417</td>\n",
       "      <td>4.447192</td>\n",
       "      <td>-5.293760</td>\n",
       "      <td>-1.419578</td>\n",
       "      <td>-6.425276</td>\n",
       "      <td>0.914083</td>\n",
       "      <td>-3.515197</td>\n",
       "      <td>-6.347453</td>\n",
       "      <td>-0.903512</td>\n",
       "      <td>1.191606</td>\n",
       "      <td>1.932254</td>\n",
       "      <td>1.092051</td>\n",
       "      <td>-0.041080</td>\n",
       "      <td>0.904395</td>\n",
       "      <td>0.180016</td>\n",
       "      <td>0.049970</td>\n",
       "      <td>-0.257100</td>\n",
       "      <td>0.859282</td>\n",
       "      <td>0.225924</td>\n",
       "      <td>426.40</td>\n",
       "      <td>1</td>\n",
       "    </tr>\n",
       "  </tbody>\n",
       "</table>\n",
       "</div>"
      ],
      "text/plain": [
       "            Time        V1        V2        V3        V4        V5        V6  \\\n",
       "82419    59392.0 -7.881720  0.661841 -2.172809  0.926365 -4.455455  2.815812   \n",
       "11078    19138.0 -0.392880  0.169218  1.403773 -1.698019  0.369746  1.077011   \n",
       "62100    50128.0 -2.140820  0.116959  1.982065  0.354664 -0.487476 -0.188489   \n",
       "184147  126115.0 -0.575465  0.601499  1.531239 -1.290013  0.550974  0.503227   \n",
       "62421    50259.0  1.248097  0.334858  0.299664  0.697775 -0.383641 -1.073900   \n",
       "34099    37512.0  1.106922  0.120453  0.202674  1.113945 -0.183392 -0.493955   \n",
       "185633  126754.0 -2.853733  2.280346 -1.677472 -0.534624 -1.018445 -0.467130   \n",
       "163856  116254.0 -0.477512  0.688751  1.367258  0.173516  0.326060  0.076998   \n",
       "111401   72217.0 -1.413173  1.311766  1.092362 -0.913857  0.256048  0.288063   \n",
       "108708   71033.0 -3.170818  0.185735 -3.399852  3.761155 -2.148047 -1.598944   \n",
       "\n",
       "              V7        V8        V9       V10       V11       V12       V13  \\\n",
       "82419  -1.346946 -3.099993 -1.088321  1.388158  0.985244  0.951293  0.053957   \n",
       "11078  -0.258275  0.416732  2.516133 -1.747782  0.501547 -2.470982  0.624692   \n",
       "62100  -0.895222 -0.417010  0.475468 -0.055442  0.836116  0.686560 -0.784895   \n",
       "184147  0.629107 -0.024039  0.672182  0.231610  0.203438 -0.409709 -1.316948   \n",
       "62421   0.086556 -0.200093  0.044926 -0.282118 -0.080455  0.189764  0.141176   \n",
       "34099   0.165934 -0.074572  0.060515 -0.034784 -0.269360 -0.031084 -0.590630   \n",
       "185633 -0.761792 -2.209956 -0.060109 -0.266996 -1.166009  1.540499  1.431729   \n",
       "163856  0.942416  0.100978  0.258596 -1.023961 -1.190742  0.670110  0.001692   \n",
       "111401  0.248990  0.722374 -0.503727 -0.487176  0.301010 -0.198521 -1.374489   \n",
       "108708 -2.519565  1.316215 -2.400106 -4.993417  4.447192 -5.293760 -1.419578   \n",
       "\n",
       "             V14       V15       V16       V17       V18       V19       V20  \\\n",
       "82419   1.216793  1.637736 -0.898347  1.049918  1.449233 -0.663588 -2.451011   \n",
       "11078   1.547814  0.086375 -0.140986  0.064375  1.401540  1.122312 -0.097380   \n",
       "62100  -0.097682 -0.567039  0.289397 -0.176100  0.412666  0.406654 -0.669842   \n",
       "184147 -0.317080 -0.252452  0.659521 -1.192030  0.518347  0.295680  0.288639   \n",
       "62421  -0.269535  1.103839  0.483037 -0.000195 -0.287906 -0.199243 -0.077676   \n",
       "34099   0.543359  1.240884 -0.210283 -0.113084 -0.520182 -0.740875 -0.113817   \n",
       "185633  0.775535 -0.622268  0.309342  0.219696 -0.766071 -0.210387 -0.861087   \n",
       "163856 -0.449750 -1.985872 -0.391375 -0.222236 -0.985130 -0.671903 -0.155966   \n",
       "111401  0.802499  0.229499  0.777862 -0.682021  0.100874 -0.370613 -0.181557   \n",
       "108708 -6.425276  0.914083 -3.515197 -6.347453 -0.903512  1.191606  1.932254   \n",
       "\n",
       "             V21       V22       V23       V24       V25       V26       V27  \\\n",
       "82419  -0.091951  0.064439 -0.182132 -0.227383 -0.180475 -0.378577 -3.294264   \n",
       "11078  -0.087155  0.123811 -0.309643 -1.782198 -0.122432 -0.679587  0.182943   \n",
       "62100   0.745238 -0.090637 -0.622954  0.614976 -0.516757  0.183912 -0.232483   \n",
       "184147 -0.347874 -0.576457 -0.142423  0.148444 -0.388120  0.231108  0.081779   \n",
       "62421  -0.286028 -0.839103  0.126696  0.343246  0.211636  0.094241 -0.024426   \n",
       "34099   0.077930  0.168294 -0.105275  0.073204  0.577401 -0.301970  0.017279   \n",
       "185633  2.793252 -1.661814  0.324820 -0.022108 -0.256682  0.174601  0.396692   \n",
       "163856 -0.366437 -0.951586  0.287823  1.000661 -0.604004 -1.329589  0.200691   \n",
       "111401 -0.175743 -0.806810 -0.185776 -0.925115  0.246464  0.076333 -0.165136   \n",
       "108708  1.092051 -0.041080  0.904395  0.180016  0.049970 -0.257100  0.859282   \n",
       "\n",
       "             V28  Amount  Class  \n",
       "82419  -0.238304  310.00      0  \n",
       "11078   0.115903   15.30      0  \n",
       "62100  -0.517144   18.42      0  \n",
       "184147 -0.205006    9.99      0  \n",
       "62421   0.031373    5.99      0  \n",
       "34099   0.024172   52.92      0  \n",
       "185633 -0.102386   89.99      0  \n",
       "163856  0.211608   53.98      0  \n",
       "111401  0.027857    5.35      0  \n",
       "108708  0.225924  426.40      1  "
      ]
     },
     "execution_count": 10,
     "metadata": {},
     "output_type": "execute_result"
    }
   ],
   "source": [
    "#No! Let's view ten randomly chosen transactions.\n",
    "\n",
    "\n",
    "transactions.sample(10)"
   ]
  },
  {
   "cell_type": "code",
   "execution_count": 11,
   "id": "2035d459",
   "metadata": {},
   "outputs": [
    {
     "data": {
      "text/plain": [
       "0    284315\n",
       "1       492\n",
       "Name: Class, dtype: int64"
      ]
     },
     "execution_count": 11,
     "metadata": {},
     "output_type": "execute_result"
    }
   ],
   "source": [
    "#how common are fraudulent transactions?\n",
    "\n",
    "transactions['Class'].value_counts()"
   ]
  },
  {
   "cell_type": "code",
   "execution_count": 12,
   "id": "f649aa2d",
   "metadata": {},
   "outputs": [
    {
     "data": {
      "text/plain": [
       "0    0.998273\n",
       "1    0.001727\n",
       "Name: Class, dtype: float64"
      ]
     },
     "execution_count": 12,
     "metadata": {},
     "output_type": "execute_result"
    }
   ],
   "source": [
    "transactions['Class'].value_counts(normalize=True)"
   ]
  },
  {
   "cell_type": "code",
   "execution_count": 13,
   "id": "2d673990",
   "metadata": {},
   "outputs": [],
   "source": [
    "#we get only 0.17%(492 out of 284,807) transactions are fraudulent."
   ]
  },
  {
   "cell_type": "code",
   "execution_count": 14,
   "id": "3c356eab",
   "metadata": {},
   "outputs": [],
   "source": [
    "#Train/Test Split\n",
    "#Before we begin preprocessing, we split off a test data set. First split the data into features and response variable:\n",
    "\n",
    "X = transactions.drop(labels='Class', axis=1) # Features\n",
    "y = transactions.loc[:,'Class']               # Response\n",
    "del transactions                              # Delete the original data"
   ]
  },
  {
   "cell_type": "code",
   "execution_count": 15,
   "id": "83b423cf",
   "metadata": {},
   "outputs": [],
   "source": [
    "#We'll use a test size of 20%. We also stratify the split on the response variable, which is very important to do because there are so few fraudulent transactions.\n",
    "\n",
    "from sklearn.model_selection import train_test_split"
   ]
  },
  {
   "cell_type": "code",
   "execution_count": 16,
   "id": "d225bfbd",
   "metadata": {},
   "outputs": [],
   "source": [
    "X_train, X_test, y_train, y_test = train_test_split(X, y, test_size=0.2, random_state=1, stratify=y)\n",
    "del X, y"
   ]
  },
  {
   "cell_type": "code",
   "execution_count": 17,
   "id": "32e116ad",
   "metadata": {},
   "outputs": [
    {
     "data": {
      "text/plain": [
       "(227845, 30)"
      ]
     },
     "execution_count": 17,
     "metadata": {},
     "output_type": "execute_result"
    }
   ],
   "source": [
    "X_train.shape"
   ]
  },
  {
   "cell_type": "code",
   "execution_count": 18,
   "id": "f279126b",
   "metadata": {},
   "outputs": [
    {
     "data": {
      "text/plain": [
       "(56962, 30)"
      ]
     },
     "execution_count": 18,
     "metadata": {},
     "output_type": "execute_result"
    }
   ],
   "source": [
    "X_test.shape"
   ]
  },
  {
   "cell_type": "code",
   "execution_count": 19,
   "id": "b28d0e06",
   "metadata": {},
   "outputs": [],
   "source": [
    "# Prevent view warnings\n",
    "X_train.is_copy = False\n",
    "X_test.is_copy = False"
   ]
  },
  {
   "cell_type": "code",
   "execution_count": 20,
   "id": "1c8a721d",
   "metadata": {},
   "outputs": [
    {
     "data": {
      "text/plain": [
       "count    227845.000000\n",
       "mean      94707.617670\n",
       "std       47523.204111\n",
       "min           0.000000\n",
       "25%       54086.000000\n",
       "50%       84609.000000\n",
       "75%      139261.000000\n",
       "max      172792.000000\n",
       "Name: Time, dtype: float64"
      ]
     },
     "execution_count": 20,
     "metadata": {},
     "output_type": "execute_result"
    }
   ],
   "source": [
    "#We conduct EDA only on the training set, and leave the test set unknown.\n",
    "#Few descriptive statistics for the Time variable:\n",
    "X_train['Time'].describe()\n"
   ]
  },
  {
   "cell_type": "code",
   "execution_count": 21,
   "id": "becc80e7",
   "metadata": {},
   "outputs": [],
   "source": [
    "#Let's convert the time from seconds to hours to ease the interpretation.\n",
    "\n",
    "X_train.loc[:,'Time'] = X_train.Time / 3600\n",
    "X_test.loc[:,'Time'] = X_test.Time / 3600"
   ]
  },
  {
   "cell_type": "code",
   "execution_count": 22,
   "id": "646d19d9",
   "metadata": {},
   "outputs": [
    {
     "data": {
      "text/plain": [
       "1.9999074074074075"
      ]
     },
     "execution_count": 22,
     "metadata": {},
     "output_type": "execute_result"
    }
   ],
   "source": [
    "#What is the time of the last transaction, in days?\n",
    "\n",
    "X_train['Time'].max() / 24"
   ]
  },
  {
   "cell_type": "code",
   "execution_count": 23,
   "id": "d8fb007e",
   "metadata": {},
   "outputs": [
    {
     "name": "stderr",
     "output_type": "stream",
     "text": [
      "C:\\Users\\Usuario\\anaconda3\\lib\\site-packages\\seaborn\\distributions.py:2619: FutureWarning: `distplot` is a deprecated function and will be removed in a future version. Please adapt your code to use either `displot` (a figure-level function with similar flexibility) or `histplot` (an axes-level function for histograms).\n",
      "  warnings.warn(msg, FutureWarning)\n"
     ]
    },
    {
     "data": {
      "text/plain": [
       "Text(0.5, 1.0, 'Transaction Times')"
      ]
     },
     "execution_count": 23,
     "metadata": {},
     "output_type": "execute_result"
    },
    {
     "data": {
      "image/png": "[encoded data removed]",
      "text/plain": [
       "<Figure size 960x320 with 1 Axes>"
      ]
     },
     "metadata": {},
     "output_type": "display_data"
    }
   ],
   "source": [
    "#So the transactions indeed occur over a two-day period. Next let's plot a histogram of transaction times, with one bin per hour:\n",
    "plt.figure(figsize=(12,4), dpi=80)\n",
    "sns.distplot(X_train['Time'], bins=48, kde=False)\n",
    "plt.xlim([0,48])\n",
    "plt.xticks(np.arange(0,54,6))\n",
    "plt.xlabel('Time After First Transaction (hr)')\n",
    "plt.ylabel('Count')\n",
    "plt.title('Transaction Times')"
   ]
  },
  {
   "cell_type": "code",
   "execution_count": 24,
   "id": "f1f4ceb3",
   "metadata": {},
   "outputs": [],
   "source": [
    "#It looks like there are two lulls in credit card transactions during nighttime on each day."
   ]
  },
  {
   "cell_type": "code",
   "execution_count": 25,
   "id": "024618e3",
   "metadata": {},
   "outputs": [
    {
     "data": {
      "text/plain": [
       "count    227845.000000\n",
       "mean         88.709296\n",
       "std         250.026305\n",
       "min           0.000000\n",
       "25%           5.550000\n",
       "50%          22.000000\n",
       "75%          77.890000\n",
       "max       25691.160000\n",
       "Name: Amount, dtype: float64"
      ]
     },
     "execution_count": 25,
     "metadata": {},
     "output_type": "execute_result"
    }
   ],
   "source": [
    "#Amount; Summary statistics:\n",
    "X_train['Amount'].describe()\n"
   ]
  },
  {
   "cell_type": "code",
   "execution_count": 26,
   "id": "1f1e068b",
   "metadata": {},
   "outputs": [
    {
     "data": {
      "text/plain": [
       "Text(0.5, 1.0, 'Transaction Amounts')"
      ]
     },
     "execution_count": 26,
     "metadata": {},
     "output_type": "execute_result"
    },
    {
     "data": {
      "image/png": "[encoded data removed]",
      "text/plain": [
       "<Figure size 960x320 with 1 Axes>"
      ]
     },
     "metadata": {},
     "output_type": "display_data"
    }
   ],
   "source": [
    "#Comparing the different quantiles, it looks like the amounts are very right-skewed. To verify this, plot a histogram of the transaction amounts:\n",
    "\n",
    "plt.figure(figsize=(12,4), dpi=80)\n",
    "sns.distplot(X_train['Amount'], bins=300, kde=False)\n",
    "plt.ylabel('Count')\n",
    "plt.title('Transaction Amounts')"
   ]
  },
  {
   "cell_type": "code",
   "execution_count": 27,
   "id": "f9b34f84",
   "metadata": {},
   "outputs": [
    {
     "name": "stderr",
     "output_type": "stream",
     "text": [
      "C:\\Users\\Usuario\\anaconda3\\lib\\site-packages\\seaborn\\_decorators.py:36: FutureWarning: Pass the following variable as a keyword arg: x. From version 0.12, the only valid positional argument will be `data`, and passing other arguments without an explicit keyword will result in an error or misinterpretation.\n",
      "  warnings.warn(\n"
     ]
    },
    {
     "data": {
      "text/plain": [
       "Text(0.5, 1.0, 'Transaction Amounts')"
      ]
     },
     "execution_count": 27,
     "metadata": {},
     "output_type": "execute_result"
    },
    {
     "data": {
      "image/png": "[encoded data removed]",
      "text/plain": [
       "<Figure size 960x320 with 1 Axes>"
      ]
     },
     "metadata": {},
     "output_type": "display_data"
    }
   ],
   "source": [
    "#The histogram is hard to read due to some outliers we can't see. A boxplot will show the outliers:\n",
    "\n",
    "plt.figure(figsize=(12,4), dpi=80)\n",
    "sns.boxplot(X_train['Amount'])\n",
    "plt.title('Transaction Amounts')"
   ]
  },
  {
   "cell_type": "code",
   "execution_count": 28,
   "id": "ec74c748",
   "metadata": {},
   "outputs": [],
   "source": [
    "#We can see there are no outliers on the left and many outliers on the right. So the amounts certainly seem right-skewed. We can calculate the skewness to be sure:"
   ]
  },
  {
   "cell_type": "code",
   "execution_count": 29,
   "id": "babe3abe",
   "metadata": {},
   "outputs": [
    {
     "data": {
      "text/plain": [
       "16.910303546516744"
      ]
     },
     "execution_count": 29,
     "metadata": {},
     "output_type": "execute_result"
    }
   ],
   "source": [
    "X_train['Amount'].skew()"
   ]
  },
  {
   "cell_type": "code",
   "execution_count": 30,
   "id": "018aa1f1",
   "metadata": {},
   "outputs": [],
   "source": [
    "#That's a strong right skew. Let's use a power transform to bring the transaction amounts closer to a normal distribution. We'll use the Box-Cox transform in SciPy, but some of the amounts are zero (min = 0 above), so we need to shift the amounts first to make them positive. We'll shift by a very small amount, just  10−9 ."
   ]
  },
  {
   "cell_type": "code",
   "execution_count": 31,
   "id": "13335972",
   "metadata": {},
   "outputs": [],
   "source": [
    "X_train.loc[:,'Amount'] = X_train['Amount'] + 1e-9 # Shift all amounts by 1e-9"
   ]
  },
  {
   "cell_type": "code",
   "execution_count": 32,
   "id": "21150c5a",
   "metadata": {},
   "outputs": [],
   "source": [
    "#Perform the Box-Cox transform:\n",
    "\n",
    "X_train.loc[:,'Amount'], maxlog, (min_ci, max_ci) = sp.stats.boxcox(X_train['Amount'], alpha=0.01)"
   ]
  },
  {
   "cell_type": "code",
   "execution_count": 33,
   "id": "cb85dea6",
   "metadata": {},
   "outputs": [
    {
     "data": {
      "text/plain": [
       "0.1343656979074871"
      ]
     },
     "execution_count": 33,
     "metadata": {},
     "output_type": "execute_result"
    }
   ],
   "source": [
    "#The maximum likelihood estimate of  λ  in the Box-Cox transform:\n",
    "\n",
    "maxlog"
   ]
  },
  {
   "cell_type": "code",
   "execution_count": 34,
   "id": "9fc556a6",
   "metadata": {},
   "outputs": [
    {
     "data": {
      "text/plain": [
       "(0.13291390124731134, 0.1358266545085327)"
      ]
     },
     "execution_count": 34,
     "metadata": {},
     "output_type": "execute_result"
    }
   ],
   "source": [
    "#The 99% confidence interval for  λ :\n",
    "(min_ci, max_ci)\n"
   ]
  },
  {
   "cell_type": "code",
   "execution_count": 35,
   "id": "ccf88775",
   "metadata": {},
   "outputs": [
    {
     "name": "stderr",
     "output_type": "stream",
     "text": [
      "C:\\Users\\Usuario\\anaconda3\\lib\\site-packages\\seaborn\\distributions.py:2619: FutureWarning: `distplot` is a deprecated function and will be removed in a future version. Please adapt your code to use either `displot` (a figure-level function with similar flexibility) or `histplot` (an axes-level function for histograms).\n",
      "  warnings.warn(msg, FutureWarning)\n"
     ]
    },
    {
     "data": {
      "text/plain": [
       "Text(0.5, 1.0, 'Transaction Amounts (Box-Cox Transformed)')"
      ]
     },
     "execution_count": 35,
     "metadata": {},
     "output_type": "execute_result"
    },
    {
     "data": {
      "image/png": "[encoded data removed]",
      "text/plain": [
       "<Figure size 960x320 with 1 Axes>"
      ]
     },
     "metadata": {},
     "output_type": "display_data"
    }
   ],
   "source": [
    "#Plot the newly transformed amounts:\n",
    "\n",
    "plt.figure(figsize=(12,4), dpi=80)\n",
    "sns.distplot(X_train['Amount'], kde=False)\n",
    "plt.xlabel('Transformed Amount')\n",
    "plt.ylabel('Count')\n",
    "plt.title('Transaction Amounts (Box-Cox Transformed)')\n",
    "\n"
   ]
  },
  {
   "cell_type": "code",
   "execution_count": 36,
   "id": "abbffa50",
   "metadata": {},
   "outputs": [
    {
     "data": {
      "text/plain": [
       "count    227845.000000\n",
       "mean          3.985515\n",
       "std           2.972505\n",
       "min          -6.982733\n",
       "25%           1.927181\n",
       "50%           3.831861\n",
       "75%           5.919328\n",
       "max          21.680567\n",
       "Name: Amount, dtype: float64"
      ]
     },
     "execution_count": 36,
     "metadata": {},
     "output_type": "execute_result"
    }
   ],
   "source": [
    "#Much better. The distribution appears to be bimodal, suggesting a divide between \"small\" and \"large\" purchases. Now let's check the descriptive stats of the transformed amounts:\n",
    "\n",
    "X_train['Amount'].describe()"
   ]
  },
  {
   "cell_type": "code",
   "execution_count": 37,
   "id": "0e67873d",
   "metadata": {},
   "outputs": [
    {
     "data": {
      "text/plain": [
       "0.11421488033443958"
      ]
     },
     "execution_count": 37,
     "metadata": {},
     "output_type": "execute_result"
    }
   ],
   "source": [
    "#What's the skewness of the transformed amounts? (Zero skewness would be ideal.)\n",
    "\n",
    "X_train['Amount'].skew()"
   ]
  },
  {
   "cell_type": "code",
   "execution_count": 38,
   "id": "c23112ee",
   "metadata": {},
   "outputs": [],
   "source": [
    "#So our power transform removed most of the skewness in the Amount variable. Now we need to compute the Box-Cox transform on the test data amounts as well, using the  λ  value estimated on the training data.\n",
    "\n",
    "X_test.loc[:,'Amount'] = X_test['Amount'] + 1e-9 # Shift all amounts by 1e-9"
   ]
  },
  {
   "cell_type": "code",
   "execution_count": 39,
   "id": "6bfec24e",
   "metadata": {},
   "outputs": [],
   "source": [
    "X_test.loc[:,'Amount'] = sp.stats.boxcox(X_test['Amount'], lmbda=maxlog)"
   ]
  },
  {
   "cell_type": "code",
   "execution_count": 40,
   "id": "b33c2630",
   "metadata": {},
   "outputs": [
    {
     "name": "stderr",
     "output_type": "stream",
     "text": [
      "C:\\Users\\Usuario\\anaconda3\\lib\\site-packages\\seaborn\\_decorators.py:36: FutureWarning: Pass the following variables as keyword args: x, y. From version 0.12, the only valid positional argument will be `data`, and passing other arguments without an explicit keyword will result in an error or misinterpretation.\n",
      "  warnings.warn(\n",
      "C:\\Users\\Usuario\\anaconda3\\lib\\site-packages\\seaborn\\axisgrid.py:2182: UserWarning: The `size` parameter has been renamed to `height`; please update your code.\n",
      "  warnings.warn(msg, UserWarning)\n"
     ]
    },
    {
     "ename": "AttributeError",
     "evalue": "'PolyCollection' object has no property 'stat_func'",
     "output_type": "error",
     "traceback": [
      "\u001b[1;31m---------------------------------------------------------------------------\u001b[0m",
      "\u001b[1;31mAttributeError\u001b[0m                            Traceback (most recent call last)",
      "\u001b[1;32m~\\AppData\\Local\\Temp/ipykernel_7880/1482201524.py\u001b[0m in \u001b[0;36m<module>\u001b[1;34m\u001b[0m\n\u001b[0;32m      1\u001b[0m \u001b[1;31m#Is there a relationship between the transaction amounts and the time of day? Let's explore this question with a joint histogram using hexagonal bins. For this plot, we convert each transaction time to the hour of the day on which it occurred.\u001b[0m\u001b[1;33m\u001b[0m\u001b[1;33m\u001b[0m\u001b[0m\n\u001b[0;32m      2\u001b[0m \u001b[1;33m\u001b[0m\u001b[0m\n\u001b[1;32m----> 3\u001b[1;33m sns.jointplot(X_train['Time'].apply(lambda x: x % 24), X_train['Amount'], kind='hex', stat_func=None, size=12, xlim=(0,24), \n\u001b[0m\u001b[0;32m      4\u001b[0m               ylim=(-7.5,14)).set_axis_labels('Time of Day (hr)','Transformed Amount')\n",
      "\u001b[1;32m~\\anaconda3\\lib\\site-packages\\seaborn\\_decorators.py\u001b[0m in \u001b[0;36minner_f\u001b[1;34m(*args, **kwargs)\u001b[0m\n\u001b[0;32m     44\u001b[0m             )\n\u001b[0;32m     45\u001b[0m         \u001b[0mkwargs\u001b[0m\u001b[1;33m.\u001b[0m\u001b[0mupdate\u001b[0m\u001b[1;33m(\u001b[0m\u001b[1;33m{\u001b[0m\u001b[0mk\u001b[0m\u001b[1;33m:\u001b[0m \u001b[0marg\u001b[0m \u001b[1;32mfor\u001b[0m \u001b[0mk\u001b[0m\u001b[1;33m,\u001b[0m \u001b[0marg\u001b[0m \u001b[1;32min\u001b[0m \u001b[0mzip\u001b[0m\u001b[1;33m(\u001b[0m\u001b[0msig\u001b[0m\u001b[1;33m.\u001b[0m\u001b[0mparameters\u001b[0m\u001b[1;33m,\u001b[0m \u001b[0margs\u001b[0m\u001b[1;33m)\u001b[0m\u001b[1;33m}\u001b[0m\u001b[1;33m)\u001b[0m\u001b[1;33m\u001b[0m\u001b[1;33m\u001b[0m\u001b[0m\n\u001b[1;32m---> 46\u001b[1;33m         \u001b[1;32mreturn\u001b[0m \u001b[0mf\u001b[0m\u001b[1;33m(\u001b[0m\u001b[1;33m**\u001b[0m\u001b[0mkwargs\u001b[0m\u001b[1;33m)\u001b[0m\u001b[1;33m\u001b[0m\u001b[1;33m\u001b[0m\u001b[0m\n\u001b[0m\u001b[0;32m     47\u001b[0m     \u001b[1;32mreturn\u001b[0m \u001b[0minner_f\u001b[0m\u001b[1;33m\u001b[0m\u001b[1;33m\u001b[0m\u001b[0m\n\u001b[0;32m     48\u001b[0m \u001b[1;33m\u001b[0m\u001b[0m\n",
      "\u001b[1;32m~\\anaconda3\\lib\\site-packages\\seaborn\\axisgrid.py\u001b[0m in \u001b[0;36mjointplot\u001b[1;34m(x, y, data, kind, color, height, ratio, space, dropna, xlim, ylim, marginal_ticks, joint_kws, marginal_kws, hue, palette, hue_order, hue_norm, **kwargs)\u001b[0m\n\u001b[0;32m   2298\u001b[0m         \u001b[0mjoint_kws\u001b[0m\u001b[1;33m.\u001b[0m\u001b[0msetdefault\u001b[0m\u001b[1;33m(\u001b[0m\u001b[1;34m\"gridsize\"\u001b[0m\u001b[1;33m,\u001b[0m \u001b[0mgridsize\u001b[0m\u001b[1;33m)\u001b[0m\u001b[1;33m\u001b[0m\u001b[1;33m\u001b[0m\u001b[0m\n\u001b[0;32m   2299\u001b[0m         \u001b[0mjoint_kws\u001b[0m\u001b[1;33m.\u001b[0m\u001b[0msetdefault\u001b[0m\u001b[1;33m(\u001b[0m\u001b[1;34m\"cmap\"\u001b[0m\u001b[1;33m,\u001b[0m \u001b[0mcmap\u001b[0m\u001b[1;33m)\u001b[0m\u001b[1;33m\u001b[0m\u001b[1;33m\u001b[0m\u001b[0m\n\u001b[1;32m-> 2300\u001b[1;33m         \u001b[0mgrid\u001b[0m\u001b[1;33m.\u001b[0m\u001b[0mplot_joint\u001b[0m\u001b[1;33m(\u001b[0m\u001b[0mplt\u001b[0m\u001b[1;33m.\u001b[0m\u001b[0mhexbin\u001b[0m\u001b[1;33m,\u001b[0m \u001b[1;33m**\u001b[0m\u001b[0mjoint_kws\u001b[0m\u001b[1;33m)\u001b[0m\u001b[1;33m\u001b[0m\u001b[1;33m\u001b[0m\u001b[0m\n\u001b[0m\u001b[0;32m   2301\u001b[0m \u001b[1;33m\u001b[0m\u001b[0m\n\u001b[0;32m   2302\u001b[0m         \u001b[0mmarginal_kws\u001b[0m\u001b[1;33m.\u001b[0m\u001b[0msetdefault\u001b[0m\u001b[1;33m(\u001b[0m\u001b[1;34m\"kde\"\u001b[0m\u001b[1;33m,\u001b[0m \u001b[1;32mFalse\u001b[0m\u001b[1;33m)\u001b[0m\u001b[1;33m\u001b[0m\u001b[1;33m\u001b[0m\u001b[0m\n",
      "\u001b[1;32m~\\anaconda3\\lib\\site-packages\\seaborn\\axisgrid.py\u001b[0m in \u001b[0;36mplot_joint\u001b[1;34m(self, func, **kwargs)\u001b[0m\n\u001b[0;32m   1806\u001b[0m             \u001b[0mfunc\u001b[0m\u001b[1;33m(\u001b[0m\u001b[0mx\u001b[0m\u001b[1;33m=\u001b[0m\u001b[0mself\u001b[0m\u001b[1;33m.\u001b[0m\u001b[0mx\u001b[0m\u001b[1;33m,\u001b[0m \u001b[0my\u001b[0m\u001b[1;33m=\u001b[0m\u001b[0mself\u001b[0m\u001b[1;33m.\u001b[0m\u001b[0my\u001b[0m\u001b[1;33m,\u001b[0m \u001b[1;33m**\u001b[0m\u001b[0mkwargs\u001b[0m\u001b[1;33m)\u001b[0m\u001b[1;33m\u001b[0m\u001b[1;33m\u001b[0m\u001b[0m\n\u001b[0;32m   1807\u001b[0m         \u001b[1;32melse\u001b[0m\u001b[1;33m:\u001b[0m\u001b[1;33m\u001b[0m\u001b[1;33m\u001b[0m\u001b[0m\n\u001b[1;32m-> 1808\u001b[1;33m             \u001b[0mfunc\u001b[0m\u001b[1;33m(\u001b[0m\u001b[0mself\u001b[0m\u001b[1;33m.\u001b[0m\u001b[0mx\u001b[0m\u001b[1;33m,\u001b[0m \u001b[0mself\u001b[0m\u001b[1;33m.\u001b[0m\u001b[0my\u001b[0m\u001b[1;33m,\u001b[0m \u001b[1;33m**\u001b[0m\u001b[0mkwargs\u001b[0m\u001b[1;33m)\u001b[0m\u001b[1;33m\u001b[0m\u001b[1;33m\u001b[0m\u001b[0m\n\u001b[0m\u001b[0;32m   1809\u001b[0m \u001b[1;33m\u001b[0m\u001b[0m\n\u001b[0;32m   1810\u001b[0m         \u001b[1;32mreturn\u001b[0m \u001b[0mself\u001b[0m\u001b[1;33m\u001b[0m\u001b[1;33m\u001b[0m\u001b[0m\n",
      "\u001b[1;32m~\\anaconda3\\lib\\site-packages\\matplotlib\\pyplot.py\u001b[0m in \u001b[0;36mhexbin\u001b[1;34m(x, y, C, gridsize, bins, xscale, yscale, extent, cmap, norm, vmin, vmax, alpha, linewidths, edgecolors, reduce_C_function, mincnt, marginals, data, **kwargs)\u001b[0m\n\u001b[0;32m   2833\u001b[0m         \u001b[0mreduce_C_function\u001b[0m\u001b[1;33m=\u001b[0m\u001b[0mnp\u001b[0m\u001b[1;33m.\u001b[0m\u001b[0mmean\u001b[0m\u001b[1;33m,\u001b[0m \u001b[0mmincnt\u001b[0m\u001b[1;33m=\u001b[0m\u001b[1;32mNone\u001b[0m\u001b[1;33m,\u001b[0m \u001b[0mmarginals\u001b[0m\u001b[1;33m=\u001b[0m\u001b[1;32mFalse\u001b[0m\u001b[1;33m,\u001b[0m \u001b[1;33m*\u001b[0m\u001b[1;33m,\u001b[0m\u001b[1;33m\u001b[0m\u001b[1;33m\u001b[0m\u001b[0m\n\u001b[0;32m   2834\u001b[0m         data=None, **kwargs):\n\u001b[1;32m-> 2835\u001b[1;33m     __ret = gca().hexbin(\n\u001b[0m\u001b[0;32m   2836\u001b[0m         \u001b[0mx\u001b[0m\u001b[1;33m,\u001b[0m \u001b[0my\u001b[0m\u001b[1;33m,\u001b[0m \u001b[0mC\u001b[0m\u001b[1;33m=\u001b[0m\u001b[0mC\u001b[0m\u001b[1;33m,\u001b[0m \u001b[0mgridsize\u001b[0m\u001b[1;33m=\u001b[0m\u001b[0mgridsize\u001b[0m\u001b[1;33m,\u001b[0m \u001b[0mbins\u001b[0m\u001b[1;33m=\u001b[0m\u001b[0mbins\u001b[0m\u001b[1;33m,\u001b[0m \u001b[0mxscale\u001b[0m\u001b[1;33m=\u001b[0m\u001b[0mxscale\u001b[0m\u001b[1;33m,\u001b[0m\u001b[1;33m\u001b[0m\u001b[1;33m\u001b[0m\u001b[0m\n\u001b[0;32m   2837\u001b[0m         \u001b[0myscale\u001b[0m\u001b[1;33m=\u001b[0m\u001b[0myscale\u001b[0m\u001b[1;33m,\u001b[0m \u001b[0mextent\u001b[0m\u001b[1;33m=\u001b[0m\u001b[0mextent\u001b[0m\u001b[1;33m,\u001b[0m \u001b[0mcmap\u001b[0m\u001b[1;33m=\u001b[0m\u001b[0mcmap\u001b[0m\u001b[1;33m,\u001b[0m \u001b[0mnorm\u001b[0m\u001b[1;33m=\u001b[0m\u001b[0mnorm\u001b[0m\u001b[1;33m,\u001b[0m \u001b[0mvmin\u001b[0m\u001b[1;33m=\u001b[0m\u001b[0mvmin\u001b[0m\u001b[1;33m,\u001b[0m\u001b[1;33m\u001b[0m\u001b[1;33m\u001b[0m\u001b[0m\n",
      "\u001b[1;32m~\\anaconda3\\lib\\site-packages\\matplotlib\\__init__.py\u001b[0m in \u001b[0;36minner\u001b[1;34m(ax, data, *args, **kwargs)\u001b[0m\n\u001b[0;32m   1359\u001b[0m     \u001b[1;32mdef\u001b[0m \u001b[0minner\u001b[0m\u001b[1;33m(\u001b[0m\u001b[0max\u001b[0m\u001b[1;33m,\u001b[0m \u001b[1;33m*\u001b[0m\u001b[0margs\u001b[0m\u001b[1;33m,\u001b[0m \u001b[0mdata\u001b[0m\u001b[1;33m=\u001b[0m\u001b[1;32mNone\u001b[0m\u001b[1;33m,\u001b[0m \u001b[1;33m**\u001b[0m\u001b[0mkwargs\u001b[0m\u001b[1;33m)\u001b[0m\u001b[1;33m:\u001b[0m\u001b[1;33m\u001b[0m\u001b[1;33m\u001b[0m\u001b[0m\n\u001b[0;32m   1360\u001b[0m         \u001b[1;32mif\u001b[0m \u001b[0mdata\u001b[0m \u001b[1;32mis\u001b[0m \u001b[1;32mNone\u001b[0m\u001b[1;33m:\u001b[0m\u001b[1;33m\u001b[0m\u001b[1;33m\u001b[0m\u001b[0m\n\u001b[1;32m-> 1361\u001b[1;33m             \u001b[1;32mreturn\u001b[0m \u001b[0mfunc\u001b[0m\u001b[1;33m(\u001b[0m\u001b[0max\u001b[0m\u001b[1;33m,\u001b[0m \u001b[1;33m*\u001b[0m\u001b[0mmap\u001b[0m\u001b[1;33m(\u001b[0m\u001b[0msanitize_sequence\u001b[0m\u001b[1;33m,\u001b[0m \u001b[0margs\u001b[0m\u001b[1;33m)\u001b[0m\u001b[1;33m,\u001b[0m \u001b[1;33m**\u001b[0m\u001b[0mkwargs\u001b[0m\u001b[1;33m)\u001b[0m\u001b[1;33m\u001b[0m\u001b[1;33m\u001b[0m\u001b[0m\n\u001b[0m\u001b[0;32m   1362\u001b[0m \u001b[1;33m\u001b[0m\u001b[0m\n\u001b[0;32m   1363\u001b[0m         \u001b[0mbound\u001b[0m \u001b[1;33m=\u001b[0m \u001b[0mnew_sig\u001b[0m\u001b[1;33m.\u001b[0m\u001b[0mbind\u001b[0m\u001b[1;33m(\u001b[0m\u001b[0max\u001b[0m\u001b[1;33m,\u001b[0m \u001b[1;33m*\u001b[0m\u001b[0margs\u001b[0m\u001b[1;33m,\u001b[0m \u001b[1;33m**\u001b[0m\u001b[0mkwargs\u001b[0m\u001b[1;33m)\u001b[0m\u001b[1;33m\u001b[0m\u001b[1;33m\u001b[0m\u001b[0m\n",
      "\u001b[1;32m~\\anaconda3\\lib\\site-packages\\matplotlib\\axes\\_axes.py\u001b[0m in \u001b[0;36mhexbin\u001b[1;34m(self, x, y, C, gridsize, bins, xscale, yscale, extent, cmap, norm, vmin, vmax, alpha, linewidths, edgecolors, reduce_C_function, mincnt, marginals, **kwargs)\u001b[0m\n\u001b[0;32m   4949\u001b[0m         \u001b[0mcollection\u001b[0m\u001b[1;33m.\u001b[0m\u001b[0mset_norm\u001b[0m\u001b[1;33m(\u001b[0m\u001b[0mnorm\u001b[0m\u001b[1;33m)\u001b[0m\u001b[1;33m\u001b[0m\u001b[1;33m\u001b[0m\u001b[0m\n\u001b[0;32m   4950\u001b[0m         \u001b[0mcollection\u001b[0m\u001b[1;33m.\u001b[0m\u001b[0mset_alpha\u001b[0m\u001b[1;33m(\u001b[0m\u001b[0malpha\u001b[0m\u001b[1;33m)\u001b[0m\u001b[1;33m\u001b[0m\u001b[1;33m\u001b[0m\u001b[0m\n\u001b[1;32m-> 4951\u001b[1;33m         \u001b[0mcollection\u001b[0m\u001b[1;33m.\u001b[0m\u001b[0mupdate\u001b[0m\u001b[1;33m(\u001b[0m\u001b[0mkwargs\u001b[0m\u001b[1;33m)\u001b[0m\u001b[1;33m\u001b[0m\u001b[1;33m\u001b[0m\u001b[0m\n\u001b[0m\u001b[0;32m   4952\u001b[0m         \u001b[0mcollection\u001b[0m\u001b[1;33m.\u001b[0m\u001b[0m_scale_norm\u001b[0m\u001b[1;33m(\u001b[0m\u001b[0mnorm\u001b[0m\u001b[1;33m,\u001b[0m \u001b[0mvmin\u001b[0m\u001b[1;33m,\u001b[0m \u001b[0mvmax\u001b[0m\u001b[1;33m)\u001b[0m\u001b[1;33m\u001b[0m\u001b[1;33m\u001b[0m\u001b[0m\n\u001b[0;32m   4953\u001b[0m \u001b[1;33m\u001b[0m\u001b[0m\n",
      "\u001b[1;32m~\\anaconda3\\lib\\site-packages\\matplotlib\\artist.py\u001b[0m in \u001b[0;36mupdate\u001b[1;34m(self, props)\u001b[0m\n\u001b[0;32m   1060\u001b[0m                     \u001b[0mfunc\u001b[0m \u001b[1;33m=\u001b[0m \u001b[0mgetattr\u001b[0m\u001b[1;33m(\u001b[0m\u001b[0mself\u001b[0m\u001b[1;33m,\u001b[0m \u001b[1;34mf\"set_{k}\"\u001b[0m\u001b[1;33m,\u001b[0m \u001b[1;32mNone\u001b[0m\u001b[1;33m)\u001b[0m\u001b[1;33m\u001b[0m\u001b[1;33m\u001b[0m\u001b[0m\n\u001b[0;32m   1061\u001b[0m                     \u001b[1;32mif\u001b[0m \u001b[1;32mnot\u001b[0m \u001b[0mcallable\u001b[0m\u001b[1;33m(\u001b[0m\u001b[0mfunc\u001b[0m\u001b[1;33m)\u001b[0m\u001b[1;33m:\u001b[0m\u001b[1;33m\u001b[0m\u001b[1;33m\u001b[0m\u001b[0m\n\u001b[1;32m-> 1062\u001b[1;33m                         raise AttributeError(f\"{type(self).__name__!r} object \"\n\u001b[0m\u001b[0;32m   1063\u001b[0m                                              f\"has no property {k!r}\")\n\u001b[0;32m   1064\u001b[0m                     \u001b[0mret\u001b[0m\u001b[1;33m.\u001b[0m\u001b[0mappend\u001b[0m\u001b[1;33m(\u001b[0m\u001b[0mfunc\u001b[0m\u001b[1;33m(\u001b[0m\u001b[0mv\u001b[0m\u001b[1;33m)\u001b[0m\u001b[1;33m)\u001b[0m\u001b[1;33m\u001b[0m\u001b[1;33m\u001b[0m\u001b[0m\n",
      "\u001b[1;31mAttributeError\u001b[0m: 'PolyCollection' object has no property 'stat_func'"
     ]
    },
    {
     "data": {
      "image/png": "[encoded data removed]",
      "text/plain": [
       "<Figure size 864x864 with 3 Axes>"
      ]
     },
     "metadata": {},
     "output_type": "display_data"
    }
   ],
   "source": [
    "#Is there a relationship between the transaction amounts and the time of day? Let's explore this question with a joint histogram using hexagonal bins. For this plot, we convert each transaction time to the hour of the day on which it occurred.\n",
    "\n",
    "sns.jointplot(X_train['Time'].apply(lambda x: x % 24), X_train['Amount'], kind='hex', stat_func=None, size=12, xlim=(0,24), \n",
    "              ylim=(-7.5,14)).set_axis_labels('Time of Day (hr)','Transformed Amount')"
   ]
  },
  {
   "cell_type": "code",
   "execution_count": 41,
   "id": "f3c84b75",
   "metadata": {},
   "outputs": [],
   "source": [
    "#The transaction amounts appear to be similarly distributed throughout the daytime hours. However, in the earliest hours of the day, around 5-7 AM, amounts around 2.5 are the most common (recall this is a Box-Cox transformed value). Perhaps everyone's buying their morning coffee?\n",
    "\n",
    "pca_vars = ['V%i' % k for k in range(1,29)]"
   ]
  },
  {
   "cell_type": "code",
   "execution_count": 42,
   "id": "6e077a93",
   "metadata": {},
   "outputs": [
    {
     "data": {
      "text/html": [
       "<div>\n",
       "<style scoped>\n",
       "    .dataframe tbody tr th:only-of-type {\n",
       "        vertical-align: middle;\n",
       "    }\n",
       "\n",
       "    .dataframe tbody tr th {\n",
       "        vertical-align: top;\n",
       "    }\n",
       "\n",
       "    .dataframe thead th {\n",
       "        text-align: right;\n",
       "    }\n",
       "</style>\n",
       "<table border=\"1\" class=\"dataframe\">\n",
       "  <thead>\n",
       "    <tr style=\"text-align: right;\">\n",
       "      <th></th>\n",
       "      <th>V1</th>\n",
       "      <th>V2</th>\n",
       "      <th>V3</th>\n",
       "      <th>V4</th>\n",
       "      <th>V5</th>\n",
       "      <th>V6</th>\n",
       "      <th>V7</th>\n",
       "      <th>V8</th>\n",
       "      <th>V9</th>\n",
       "      <th>V10</th>\n",
       "      <th>V11</th>\n",
       "      <th>V12</th>\n",
       "      <th>V13</th>\n",
       "      <th>V14</th>\n",
       "      <th>V15</th>\n",
       "      <th>V16</th>\n",
       "      <th>V17</th>\n",
       "      <th>V18</th>\n",
       "      <th>V19</th>\n",
       "      <th>V20</th>\n",
       "      <th>V21</th>\n",
       "      <th>V22</th>\n",
       "      <th>V23</th>\n",
       "      <th>V24</th>\n",
       "      <th>V25</th>\n",
       "      <th>V26</th>\n",
       "      <th>V27</th>\n",
       "      <th>V28</th>\n",
       "    </tr>\n",
       "  </thead>\n",
       "  <tbody>\n",
       "    <tr>\n",
       "      <th>count</th>\n",
       "      <td>227845.000000</td>\n",
       "      <td>227845.000000</td>\n",
       "      <td>227845.000000</td>\n",
       "      <td>227845.000000</td>\n",
       "      <td>227845.000000</td>\n",
       "      <td>227845.000000</td>\n",
       "      <td>227845.000000</td>\n",
       "      <td>227845.000000</td>\n",
       "      <td>227845.000000</td>\n",
       "      <td>227845.000000</td>\n",
       "      <td>227845.000000</td>\n",
       "      <td>227845.000000</td>\n",
       "      <td>227845.000000</td>\n",
       "      <td>227845.000000</td>\n",
       "      <td>227845.000000</td>\n",
       "      <td>227845.000000</td>\n",
       "      <td>227845.000000</td>\n",
       "      <td>227845.000000</td>\n",
       "      <td>227845.000000</td>\n",
       "      <td>227845.000000</td>\n",
       "      <td>227845.000000</td>\n",
       "      <td>227845.000000</td>\n",
       "      <td>227845.000000</td>\n",
       "      <td>227845.000000</td>\n",
       "      <td>227845.000000</td>\n",
       "      <td>227845.000000</td>\n",
       "      <td>227845.000000</td>\n",
       "      <td>227845.000000</td>\n",
       "    </tr>\n",
       "    <tr>\n",
       "      <th>mean</th>\n",
       "      <td>-0.000713</td>\n",
       "      <td>-0.001034</td>\n",
       "      <td>0.002557</td>\n",
       "      <td>0.003839</td>\n",
       "      <td>-0.002857</td>\n",
       "      <td>0.002085</td>\n",
       "      <td>0.000022</td>\n",
       "      <td>0.000093</td>\n",
       "      <td>0.000243</td>\n",
       "      <td>-0.000363</td>\n",
       "      <td>0.000651</td>\n",
       "      <td>-0.000834</td>\n",
       "      <td>-0.000976</td>\n",
       "      <td>0.002291</td>\n",
       "      <td>-0.000595</td>\n",
       "      <td>-0.000499</td>\n",
       "      <td>0.000587</td>\n",
       "      <td>0.001448</td>\n",
       "      <td>-0.000146</td>\n",
       "      <td>-0.000796</td>\n",
       "      <td>0.000023</td>\n",
       "      <td>0.000897</td>\n",
       "      <td>0.000765</td>\n",
       "      <td>-0.000380</td>\n",
       "      <td>0.000136</td>\n",
       "      <td>-0.000301</td>\n",
       "      <td>-0.000046</td>\n",
       "      <td>-0.000027</td>\n",
       "    </tr>\n",
       "    <tr>\n",
       "      <th>std</th>\n",
       "      <td>1.952399</td>\n",
       "      <td>1.636689</td>\n",
       "      <td>1.514288</td>\n",
       "      <td>1.417086</td>\n",
       "      <td>1.383532</td>\n",
       "      <td>1.333769</td>\n",
       "      <td>1.240239</td>\n",
       "      <td>1.200348</td>\n",
       "      <td>1.096453</td>\n",
       "      <td>1.082580</td>\n",
       "      <td>1.020932</td>\n",
       "      <td>1.000266</td>\n",
       "      <td>0.996678</td>\n",
       "      <td>0.957485</td>\n",
       "      <td>0.916946</td>\n",
       "      <td>0.876978</td>\n",
       "      <td>0.846748</td>\n",
       "      <td>0.838169</td>\n",
       "      <td>0.815140</td>\n",
       "      <td>0.767956</td>\n",
       "      <td>0.733325</td>\n",
       "      <td>0.725353</td>\n",
       "      <td>0.616772</td>\n",
       "      <td>0.605741</td>\n",
       "      <td>0.522184</td>\n",
       "      <td>0.482187</td>\n",
       "      <td>0.405182</td>\n",
       "      <td>0.331048</td>\n",
       "    </tr>\n",
       "    <tr>\n",
       "      <th>min</th>\n",
       "      <td>-56.407510</td>\n",
       "      <td>-72.715728</td>\n",
       "      <td>-48.325589</td>\n",
       "      <td>-5.683171</td>\n",
       "      <td>-113.743307</td>\n",
       "      <td>-26.160506</td>\n",
       "      <td>-43.557242</td>\n",
       "      <td>-73.216718</td>\n",
       "      <td>-13.434066</td>\n",
       "      <td>-24.588262</td>\n",
       "      <td>-4.797473</td>\n",
       "      <td>-18.431131</td>\n",
       "      <td>-5.791881</td>\n",
       "      <td>-19.214325</td>\n",
       "      <td>-4.498945</td>\n",
       "      <td>-14.129855</td>\n",
       "      <td>-25.162799</td>\n",
       "      <td>-9.335193</td>\n",
       "      <td>-7.213527</td>\n",
       "      <td>-54.497720</td>\n",
       "      <td>-34.830382</td>\n",
       "      <td>-10.933144</td>\n",
       "      <td>-36.666000</td>\n",
       "      <td>-2.836627</td>\n",
       "      <td>-8.696627</td>\n",
       "      <td>-2.534330</td>\n",
       "      <td>-22.565679</td>\n",
       "      <td>-15.430084</td>\n",
       "    </tr>\n",
       "    <tr>\n",
       "      <th>25%</th>\n",
       "      <td>-0.922830</td>\n",
       "      <td>-0.599928</td>\n",
       "      <td>-0.887861</td>\n",
       "      <td>-0.844052</td>\n",
       "      <td>-0.693702</td>\n",
       "      <td>-0.766195</td>\n",
       "      <td>-0.555377</td>\n",
       "      <td>-0.208302</td>\n",
       "      <td>-0.642006</td>\n",
       "      <td>-0.535079</td>\n",
       "      <td>-0.761255</td>\n",
       "      <td>-0.406597</td>\n",
       "      <td>-0.650225</td>\n",
       "      <td>-0.423563</td>\n",
       "      <td>-0.584357</td>\n",
       "      <td>-0.469513</td>\n",
       "      <td>-0.484153</td>\n",
       "      <td>-0.497660</td>\n",
       "      <td>-0.456946</td>\n",
       "      <td>-0.212129</td>\n",
       "      <td>-0.227952</td>\n",
       "      <td>-0.541079</td>\n",
       "      <td>-0.162242</td>\n",
       "      <td>-0.354208</td>\n",
       "      <td>-0.317488</td>\n",
       "      <td>-0.327576</td>\n",
       "      <td>-0.070767</td>\n",
       "      <td>-0.053013</td>\n",
       "    </tr>\n",
       "    <tr>\n",
       "      <th>50%</th>\n",
       "      <td>0.016743</td>\n",
       "      <td>0.064370</td>\n",
       "      <td>0.180865</td>\n",
       "      <td>-0.016750</td>\n",
       "      <td>-0.055388</td>\n",
       "      <td>-0.271706</td>\n",
       "      <td>0.039185</td>\n",
       "      <td>0.022594</td>\n",
       "      <td>-0.051224</td>\n",
       "      <td>-0.091877</td>\n",
       "      <td>-0.032213</td>\n",
       "      <td>0.141227</td>\n",
       "      <td>-0.014920</td>\n",
       "      <td>0.051939</td>\n",
       "      <td>0.047181</td>\n",
       "      <td>0.066080</td>\n",
       "      <td>-0.065260</td>\n",
       "      <td>-0.001867</td>\n",
       "      <td>0.004371</td>\n",
       "      <td>-0.062809</td>\n",
       "      <td>-0.029095</td>\n",
       "      <td>0.007661</td>\n",
       "      <td>-0.011184</td>\n",
       "      <td>0.040977</td>\n",
       "      <td>0.017081</td>\n",
       "      <td>-0.052599</td>\n",
       "      <td>0.001373</td>\n",
       "      <td>0.011255</td>\n",
       "    </tr>\n",
       "    <tr>\n",
       "      <th>75%</th>\n",
       "      <td>1.315147</td>\n",
       "      <td>0.801738</td>\n",
       "      <td>1.027592</td>\n",
       "      <td>0.746907</td>\n",
       "      <td>0.611056</td>\n",
       "      <td>0.401204</td>\n",
       "      <td>0.569307</td>\n",
       "      <td>0.328079</td>\n",
       "      <td>0.596563</td>\n",
       "      <td>0.455577</td>\n",
       "      <td>0.740921</td>\n",
       "      <td>0.617925</td>\n",
       "      <td>0.663521</td>\n",
       "      <td>0.495181</td>\n",
       "      <td>0.649788</td>\n",
       "      <td>0.522836</td>\n",
       "      <td>0.400067</td>\n",
       "      <td>0.501554</td>\n",
       "      <td>0.459695</td>\n",
       "      <td>0.132873</td>\n",
       "      <td>0.186678</td>\n",
       "      <td>0.529342</td>\n",
       "      <td>0.147825</td>\n",
       "      <td>0.438432</td>\n",
       "      <td>0.351400</td>\n",
       "      <td>0.240554</td>\n",
       "      <td>0.091028</td>\n",
       "      <td>0.078341</td>\n",
       "    </tr>\n",
       "    <tr>\n",
       "      <th>max</th>\n",
       "      <td>2.451888</td>\n",
       "      <td>22.057729</td>\n",
       "      <td>9.382558</td>\n",
       "      <td>16.715537</td>\n",
       "      <td>34.801666</td>\n",
       "      <td>73.301626</td>\n",
       "      <td>120.589494</td>\n",
       "      <td>20.007208</td>\n",
       "      <td>15.594995</td>\n",
       "      <td>23.745136</td>\n",
       "      <td>12.018913</td>\n",
       "      <td>7.848392</td>\n",
       "      <td>7.126883</td>\n",
       "      <td>10.526766</td>\n",
       "      <td>8.877742</td>\n",
       "      <td>17.315112</td>\n",
       "      <td>9.207059</td>\n",
       "      <td>5.041069</td>\n",
       "      <td>5.591971</td>\n",
       "      <td>39.420904</td>\n",
       "      <td>27.202839</td>\n",
       "      <td>10.503090</td>\n",
       "      <td>22.083545</td>\n",
       "      <td>4.584549</td>\n",
       "      <td>7.519589</td>\n",
       "      <td>3.517346</td>\n",
       "      <td>31.612198</td>\n",
       "      <td>33.847808</td>\n",
       "    </tr>\n",
       "  </tbody>\n",
       "</table>\n",
       "</div>"
      ],
      "text/plain": [
       "                  V1             V2             V3             V4  \\\n",
       "count  227845.000000  227845.000000  227845.000000  227845.000000   \n",
       "mean       -0.000713      -0.001034       0.002557       0.003839   \n",
       "std         1.952399       1.636689       1.514288       1.417086   \n",
       "min       -56.407510     -72.715728     -48.325589      -5.683171   \n",
       "25%        -0.922830      -0.599928      -0.887861      -0.844052   \n",
       "50%         0.016743       0.064370       0.180865      -0.016750   \n",
       "75%         1.315147       0.801738       1.027592       0.746907   \n",
       "max         2.451888      22.057729       9.382558      16.715537   \n",
       "\n",
       "                  V5             V6             V7             V8  \\\n",
       "count  227845.000000  227845.000000  227845.000000  227845.000000   \n",
       "mean       -0.002857       0.002085       0.000022       0.000093   \n",
       "std         1.383532       1.333769       1.240239       1.200348   \n",
       "min      -113.743307     -26.160506     -43.557242     -73.216718   \n",
       "25%        -0.693702      -0.766195      -0.555377      -0.208302   \n",
       "50%        -0.055388      -0.271706       0.039185       0.022594   \n",
       "75%         0.611056       0.401204       0.569307       0.328079   \n",
       "max        34.801666      73.301626     120.589494      20.007208   \n",
       "\n",
       "                  V9            V10            V11            V12  \\\n",
       "count  227845.000000  227845.000000  227845.000000  227845.000000   \n",
       "mean        0.000243      -0.000363       0.000651      -0.000834   \n",
       "std         1.096453       1.082580       1.020932       1.000266   \n",
       "min       -13.434066     -24.588262      -4.797473     -18.431131   \n",
       "25%        -0.642006      -0.535079      -0.761255      -0.406597   \n",
       "50%        -0.051224      -0.091877      -0.032213       0.141227   \n",
       "75%         0.596563       0.455577       0.740921       0.617925   \n",
       "max        15.594995      23.745136      12.018913       7.848392   \n",
       "\n",
       "                 V13            V14            V15            V16  \\\n",
       "count  227845.000000  227845.000000  227845.000000  227845.000000   \n",
       "mean       -0.000976       0.002291      -0.000595      -0.000499   \n",
       "std         0.996678       0.957485       0.916946       0.876978   \n",
       "min        -5.791881     -19.214325      -4.498945     -14.129855   \n",
       "25%        -0.650225      -0.423563      -0.584357      -0.469513   \n",
       "50%        -0.014920       0.051939       0.047181       0.066080   \n",
       "75%         0.663521       0.495181       0.649788       0.522836   \n",
       "max         7.126883      10.526766       8.877742      17.315112   \n",
       "\n",
       "                 V17            V18            V19            V20  \\\n",
       "count  227845.000000  227845.000000  227845.000000  227845.000000   \n",
       "mean        0.000587       0.001448      -0.000146      -0.000796   \n",
       "std         0.846748       0.838169       0.815140       0.767956   \n",
       "min       -25.162799      -9.335193      -7.213527     -54.497720   \n",
       "25%        -0.484153      -0.497660      -0.456946      -0.212129   \n",
       "50%        -0.065260      -0.001867       0.004371      -0.062809   \n",
       "75%         0.400067       0.501554       0.459695       0.132873   \n",
       "max         9.207059       5.041069       5.591971      39.420904   \n",
       "\n",
       "                 V21            V22            V23            V24  \\\n",
       "count  227845.000000  227845.000000  227845.000000  227845.000000   \n",
       "mean        0.000023       0.000897       0.000765      -0.000380   \n",
       "std         0.733325       0.725353       0.616772       0.605741   \n",
       "min       -34.830382     -10.933144     -36.666000      -2.836627   \n",
       "25%        -0.227952      -0.541079      -0.162242      -0.354208   \n",
       "50%        -0.029095       0.007661      -0.011184       0.040977   \n",
       "75%         0.186678       0.529342       0.147825       0.438432   \n",
       "max        27.202839      10.503090      22.083545       4.584549   \n",
       "\n",
       "                 V25            V26            V27            V28  \n",
       "count  227845.000000  227845.000000  227845.000000  227845.000000  \n",
       "mean        0.000136      -0.000301      -0.000046      -0.000027  \n",
       "std         0.522184       0.482187       0.405182       0.331048  \n",
       "min        -8.696627      -2.534330     -22.565679     -15.430084  \n",
       "25%        -0.317488      -0.327576      -0.070767      -0.053013  \n",
       "50%         0.017081      -0.052599       0.001373       0.011255  \n",
       "75%         0.351400       0.240554       0.091028       0.078341  \n",
       "max         7.519589       3.517346      31.612198      33.847808  "
      ]
     },
     "execution_count": 42,
     "metadata": {},
     "output_type": "execute_result"
    }
   ],
   "source": [
    "#Full table of descriptive stats:\n",
    "X_train[pca_vars].describe()\n"
   ]
  },
  {
   "cell_type": "code",
   "execution_count": 43,
   "id": "857c50b8",
   "metadata": {
    "scrolled": true
   },
   "outputs": [
    {
     "data": {
      "text/plain": [
       "Text(0.5, 1.0, 'V1-V28 Means')"
      ]
     },
     "execution_count": 43,
     "metadata": {},
     "output_type": "execute_result"
    },
    {
     "data": {
      "image/png": "[encoded data removed]",
      "text/plain": [
       "<Figure size 960x320 with 1 Axes>"
      ]
     },
     "metadata": {},
     "output_type": "display_data"
    }
   ],
   "source": [
    "#It's tedious to interpret this table, so let's make some visualizations. We'll start by plotting the means:\n",
    "plt.figure(figsize=(12,4), dpi=80)\n",
    "sns.barplot(x=pca_vars, y=X_train[pca_vars].mean(), color='darkblue')\n",
    "plt.xlabel('Column')\n",
    "plt.ylabel('Mean')\n",
    "plt.title('V1-V28 Means')"
   ]
  },
  {
   "cell_type": "code",
   "execution_count": 44,
   "id": "0b6a44ab",
   "metadata": {},
   "outputs": [
    {
     "data": {
      "text/plain": [
       "Text(0.5, 1.0, 'V1-V28 Standard Deviations')"
      ]
     },
     "execution_count": 44,
     "metadata": {},
     "output_type": "execute_result"
    },
    {
     "data": {
      "image/png": "[encoded data removed]",
      "text/plain": [
       "<Figure size 960x320 with 1 Axes>"
      ]
     },
     "metadata": {},
     "output_type": "display_data"
    }
   ],
   "source": [
    "#All of V1-V28 have approximately zero mean. Now plot the standard deviations:\n",
    "\n",
    "plt.figure(figsize=(12,4), dpi=80)\n",
    "sns.barplot(x=pca_vars, y=X_train[pca_vars].std(), color='darkred')\n",
    "plt.xlabel('Column')\n",
    "plt.ylabel('Standard Deviation')\n",
    "plt.title('V1-V28 Standard Deviations')"
   ]
  },
  {
   "cell_type": "code",
   "execution_count": 45,
   "id": "9a7c5da0",
   "metadata": {
    "scrolled": true
   },
   "outputs": [
    {
     "data": {
      "text/plain": [
       "Text(0.5, 1.0, 'V1-V28 Skewnesses')"
      ]
     },
     "execution_count": 45,
     "metadata": {},
     "output_type": "execute_result"
    },
    {
     "data": {
      "image/png": "[encoded data removed]",
      "text/plain": [
       "<Figure size 960x320 with 1 Axes>"
      ]
     },
     "metadata": {},
     "output_type": "display_data"
    }
   ],
   "source": [
    "#The PCA variables have roughly unit variance, but as low as ~0.3 and as high as ~1.9. Plot the skewnesses next:\n",
    "plt.figure(figsize=(12,4), dpi=80)\n",
    "sns.barplot(x=pca_vars, y=X_train[pca_vars].skew(), color='darkgreen')\n",
    "plt.xlabel('Column')\n",
    "plt.ylabel('Skewness')\n",
    "plt.title('V1-V28 Skewnesses')"
   ]
  },
  {
   "cell_type": "code",
   "execution_count": 46,
   "id": "2187f474",
   "metadata": {},
   "outputs": [
    {
     "name": "stderr",
     "output_type": "stream",
     "text": [
      "C:\\Users\\Usuario\\anaconda3\\lib\\site-packages\\seaborn\\distributions.py:2619: FutureWarning: `distplot` is a deprecated function and will be removed in a future version. Please adapt your code to use either `displot` (a figure-level function with similar flexibility) or `histplot` (an axes-level function for histograms).\n",
      "  warnings.warn(msg, FutureWarning)\n"
     ]
    },
    {
     "data": {
      "text/plain": [
       "Text(0.5, 1.0, 'V8')"
      ]
     },
     "execution_count": 46,
     "metadata": {},
     "output_type": "execute_result"
    },
    {
     "data": {
      "image/png": "[encoded data removed]",
      "text/plain": [
       "<Figure size 960x320 with 1 Axes>"
      ]
     },
     "metadata": {},
     "output_type": "display_data"
    }
   ],
   "source": [
    "#A few of the PCA variables are significantly skewed. Let's plot a histogram of one of the particularly skewed variables, V8, to see the distribution in detail.\n",
    "plt.figure(figsize=(12,4), dpi=80)\n",
    "sns.distplot(X_train['V8'], bins=300, kde=False)\n",
    "plt.ylabel('Count')\n",
    "plt.title('V8')"
   ]
  },
  {
   "cell_type": "code",
   "execution_count": 47,
   "id": "a3e7361e",
   "metadata": {},
   "outputs": [
    {
     "name": "stderr",
     "output_type": "stream",
     "text": [
      "C:\\Users\\Usuario\\anaconda3\\lib\\site-packages\\seaborn\\_decorators.py:36: FutureWarning: Pass the following variable as a keyword arg: x. From version 0.12, the only valid positional argument will be `data`, and passing other arguments without an explicit keyword will result in an error or misinterpretation.\n",
      "  warnings.warn(\n"
     ]
    },
    {
     "data": {
      "text/plain": [
       "Text(0.5, 1.0, 'V8')"
      ]
     },
     "execution_count": 47,
     "metadata": {},
     "output_type": "execute_result"
    },
    {
     "data": {
      "image/png": "[encoded data removed]",
      "text/plain": [
       "<Figure size 960x320 with 1 Axes>"
      ]
     },
     "metadata": {},
     "output_type": "display_data"
    }
   ],
   "source": [
    "#The histogram doesn't show us outliers. Let's try a boxplot:\n",
    "plt.figure(figsize=(12,4), dpi=80)\n",
    "sns.boxplot(X_train['V8'])\n",
    "plt.title('V8')\n"
   ]
  },
  {
   "cell_type": "code",
   "execution_count": 48,
   "id": "d74647f5",
   "metadata": {},
   "outputs": [
    {
     "data": {
      "text/plain": [
       "Text(0.5, 1.0, 'V1-V28 Kurtoses')"
      ]
     },
     "execution_count": 48,
     "metadata": {},
     "output_type": "execute_result"
    },
    {
     "data": {
      "image/png": "[encoded data removed]",
      "text/plain": [
       "<Figure size 960x320 with 1 Axes>"
      ]
     },
     "metadata": {},
     "output_type": "display_data"
    }
   ],
   "source": [
    "#The boxplot is also hard to read due to the large number of outliers, which indicates high kurtosis in V8. This motivates us to plot the kurtoses of the PCA variables. The kurtosis method employed in pandas is Fisher’s definition, for which the standard normal distribution has kurtosis 0.\n",
    "\n",
    "#Note the log scale on the y-axis in the plot below:\n",
    "\n",
    "plt.figure(figsize=(12,4), dpi=80)\n",
    "plt.yscale('log')\n",
    "sns.barplot(x=pca_vars, y=X_train[pca_vars].kurtosis(), color='darkorange')\n",
    "plt.xlabel('Column')\n",
    "plt.ylabel('Kurtosis')\n",
    "plt.title('V1-V28 Kurtoses')\n",
    "\n"
   ]
  },
  {
   "cell_type": "code",
   "execution_count": 49,
   "id": "ebcdca25",
   "metadata": {},
   "outputs": [
    {
     "data": {
      "text/plain": [
       "Text(0.5, 1.0, 'V1-V28 Medians')"
      ]
     },
     "execution_count": 49,
     "metadata": {},
     "output_type": "execute_result"
    },
    {
     "data": {
      "image/png": "[encoded data removed]",
      "text/plain": [
       "<Figure size 960x320 with 1 Axes>"
      ]
     },
     "metadata": {},
     "output_type": "display_data"
    }
   ],
   "source": [
    "#We've learned that many of the PCA variables are heavy-tailed. The large numbers of outliers in V1-V28 motivates us to consider robust descriptive statistics. Let's plot the medians:\n",
    "\n",
    "plt.figure(figsize=(12,4), dpi=80)\n",
    "sns.barplot(x=pca_vars, y=X_train[pca_vars].median(), color='darkblue')\n",
    "plt.xlabel('Column')\n",
    "plt.ylabel('Median')\n",
    "plt.title('V1-V28 Medians')"
   ]
  },
  {
   "cell_type": "code",
   "execution_count": 50,
   "id": "dcdde661",
   "metadata": {},
   "outputs": [],
   "source": [
    "#The medians are also roughly zero. Next let's look at the interquartile ranges (IQR)*:\n",
    "\n",
    "#*Pandas does not have a built-in IQR method, but we can use the quantile method to calculate the IQR."
   ]
  },
  {
   "cell_type": "code",
   "execution_count": 51,
   "id": "c6f0c9b5",
   "metadata": {},
   "outputs": [
    {
     "data": {
      "text/plain": [
       "Text(0.5, 1.0, 'V1-V28 IQRs')"
      ]
     },
     "execution_count": 51,
     "metadata": {},
     "output_type": "execute_result"
    },
    {
     "data": {
      "image/png": "[encoded data removed]",
      "text/plain": [
       "<Figure size 960x320 with 1 Axes>"
      ]
     },
     "metadata": {},
     "output_type": "display_data"
    }
   ],
   "source": [
    "plt.figure(figsize=(12,4), dpi=80)\n",
    "sns.barplot(x=pca_vars, y=X_train[pca_vars].quantile(0.75) - X_train[pca_vars].quantile(0.25), color='darkred')\n",
    "plt.xlabel('Column')\n",
    "plt.ylabel('IQR')\n",
    "plt.title('V1-V28 IQRs')"
   ]
  },
  {
   "cell_type": "code",
   "execution_count": 52,
   "id": "4f1864cc",
   "metadata": {},
   "outputs": [],
   "source": [
    "#The IQRs of V1-V28 are on a similar scale as the standard deviations."
   ]
  },
  {
   "cell_type": "code",
   "execution_count": 53,
   "id": "c212df99",
   "metadata": {},
   "outputs": [],
   "source": [
    "#Mutual information is a non-parametric method to estimate the mutual dependence between two variables. Mutual information of 0 indicates no dependence, and higher values indicate higher dependence. According to the sklearn User Guide, \"mutual information methods can capture any kind of statistical dependency, but being nonparametric, they require more samples for accurate estimation.\" We have 227,845 training samples, so mutual information should work well. Because the target variable is discrete, we use mutual_info_classif (as opposed to mutual_info_regression for a continuous target).\n",
    "\n"
   ]
  },
  {
   "cell_type": "code",
   "execution_count": 54,
   "id": "6fd12cb0",
   "metadata": {},
   "outputs": [],
   "source": [
    "from sklearn.feature_selection import mutual_info_classif"
   ]
  },
  {
   "cell_type": "code",
   "execution_count": 55,
   "id": "c5adf933",
   "metadata": {},
   "outputs": [],
   "source": [
    "mutual_infos = pd.Series(data=mutual_info_classif(X_train, y_train, discrete_features=False, random_state=1), index=X_train.columns)"
   ]
  },
  {
   "cell_type": "code",
   "execution_count": 56,
   "id": "7341e2e0",
   "metadata": {},
   "outputs": [
    {
     "data": {
      "text/plain": [
       "V17       0.008037\n",
       "V14       0.007977\n",
       "V10       0.007354\n",
       "V12       0.007354\n",
       "V11       0.006607\n",
       "V16       0.005793\n",
       "V4        0.004843\n",
       "V3        0.004755\n",
       "V18       0.004025\n",
       "V9        0.003996\n",
       "V7        0.003941\n",
       "V2        0.003085\n",
       "V21       0.002304\n",
       "V27       0.002271\n",
       "V6        0.002265\n",
       "V5        0.002254\n",
       "V1        0.001990\n",
       "V8        0.001843\n",
       "V28       0.001757\n",
       "Time      0.001722\n",
       "Amount    0.001422\n",
       "V19       0.001322\n",
       "V20       0.001136\n",
       "V23       0.000827\n",
       "V24       0.000593\n",
       "V26       0.000459\n",
       "V22       0.000388\n",
       "V25       0.000376\n",
       "V15       0.000230\n",
       "V13       0.000205\n",
       "dtype: float64"
      ]
     },
     "execution_count": 56,
     "metadata": {},
     "output_type": "execute_result"
    }
   ],
   "source": [
    "#The calculated mutual informations of each variable with Class, in descending order:\n",
    "\n",
    "mutual_infos.sort_values(ascending=False)"
   ]
  },
  {
   "cell_type": "code",
   "execution_count": 57,
   "id": "386a9b1a",
   "metadata": {},
   "outputs": [],
   "source": [
    "#The five most correlated variables with Class are, in decreasing order, V17, V14, V10, V12, and V11."
   ]
  },
  {
   "cell_type": "code",
   "execution_count": 58,
   "id": "187a2dfb",
   "metadata": {},
   "outputs": [],
   "source": [
    "#MODELING\n",
    "#Now we're ready to build machine learning models to predict whether a transaction is fraudulent. We'll train the following models:\n",
    "\n",
    "#Logistic regression\n",
    "#Support vector classifier\n",
    "#Random forest"
   ]
  },
  {
   "cell_type": "code",
   "execution_count": 59,
   "id": "6e4aaf98",
   "metadata": {},
   "outputs": [],
   "source": [
    "#Logistic Regression and Support Vector Classifier\n",
    "\n",
    "#The class SGDClassifier implements multiple linear classifiers with SGD training, which makes learning much faster on large datasets. We'll implement the model as a machine learning pipeline that includes StandardScaler for data standardization (rescaling each variable to zero mean and unit variance)."
   ]
  },
  {
   "cell_type": "code",
   "execution_count": 60,
   "id": "edc9997e",
   "metadata": {},
   "outputs": [],
   "source": [
    "from sklearn.pipeline import Pipeline\n",
    "from sklearn.preprocessing import StandardScaler\n",
    "from sklearn.linear_model import SGDClassifier"
   ]
  },
  {
   "cell_type": "code",
   "execution_count": 61,
   "id": "f69a810c",
   "metadata": {},
   "outputs": [],
   "source": [
    "pipeline_sgd = Pipeline([\n",
    "    ('scaler', StandardScaler(copy=False)),\n",
    "    ('model', SGDClassifier(max_iter=1000, tol=1e-3, random_state=1, warm_start=True))\n",
    "])"
   ]
  },
  {
   "cell_type": "code",
   "execution_count": 62,
   "id": "41fcbdbf",
   "metadata": {},
   "outputs": [],
   "source": [
    "#We'll conduct a grid search over several hyperparameter choices. The search uses 5-fold cross-validation with stratified folds. The type of linear classifier is chosen with the loss hyperparameter. For a linear SVC we set loss = 'hinge', and for logistic regression we set loss = 'log'.\n"
   ]
  },
  {
   "cell_type": "code",
   "execution_count": 63,
   "id": "1abf7b79",
   "metadata": {},
   "outputs": [],
   "source": [
    "#Set the hyperparameter grids to search over, one grid for the linear SVC and one for logistic regression:\n",
    "param_grid_sgd = [{\n",
    "    'model__loss': ['log'],\n",
    "    'model__penalty': ['l1', 'l2'],\n",
    "    'model__alpha': np.logspace(start=-3, stop=3, num=20)\n",
    "}, {\n",
    "    'model__loss': ['hinge'],\n",
    "    'model__alpha': np.logspace(start=-3, stop=3, num=20),\n",
    "    'model__class_weight': [None, 'balanced']\n",
    "}]"
   ]
  },
  {
   "cell_type": "code",
   "execution_count": 64,
   "id": "60871839",
   "metadata": {},
   "outputs": [],
   "source": [
    "#The grid search, implemented by GridSearchCV, uses StratifiedKFold with 5 folds for the train/validation splits. We'll use matthews_corrcoef (the Matthews correlation coefficient, MCC) as our scoring metric."
   ]
  },
  {
   "cell_type": "code",
   "execution_count": 65,
   "id": "00dbbd2c",
   "metadata": {},
   "outputs": [],
   "source": [
    "from sklearn.model_selection import GridSearchCV\n",
    "from sklearn.metrics import make_scorer, matthews_corrcoef"
   ]
  },
  {
   "cell_type": "code",
   "execution_count": 66,
   "id": "4ce43fc5",
   "metadata": {},
   "outputs": [],
   "source": [
    "MCC_scorer = make_scorer(matthews_corrcoef)\n",
    "grid_sgd = GridSearchCV(estimator=pipeline_sgd, param_grid=param_grid_sgd, scoring=MCC_scorer, n_jobs=-1, pre_dispatch='2*n_jobs', cv=5, verbose=1, return_train_score=False)"
   ]
  },
  {
   "cell_type": "code",
   "execution_count": 67,
   "id": "9a67cd6e",
   "metadata": {},
   "outputs": [
    {
     "name": "stdout",
     "output_type": "stream",
     "text": [
      "Fitting 5 folds for each of 80 candidates, totalling 400 fits\n"
     ]
    }
   ],
   "source": [
    "#Perform the grid search:\n",
    "\n",
    "import warnings\n",
    "with warnings.catch_warnings(): # Suppress warnings from the matthews_corrcoef function\n",
    "    warnings.simplefilter(\"ignore\")\n",
    "    grid_sgd.fit(X_train, y_train)\n"
   ]
  },
  {
   "cell_type": "code",
   "execution_count": 68,
   "id": "2807c656",
   "metadata": {},
   "outputs": [
    {
     "data": {
      "text/plain": [
       "0.8054381462050987"
      ]
     },
     "execution_count": 68,
     "metadata": {},
     "output_type": "execute_result"
    }
   ],
   "source": [
    "#Mean cross-validated MCC score of the best estimator found:\n",
    "\n",
    "grid_sgd.best_score_"
   ]
  },
  {
   "cell_type": "code",
   "execution_count": 69,
   "id": "3130d0a6",
   "metadata": {},
   "outputs": [
    {
     "data": {
      "text/plain": [
       "{'model__alpha': 233.57214690901213,\n",
       " 'model__class_weight': 'balanced',\n",
       " 'model__loss': 'hinge'}"
      ]
     },
     "execution_count": 69,
     "metadata": {},
     "output_type": "execute_result"
    }
   ],
   "source": [
    "#This is a pretty good MCC score---random guessing has a score of 0, and a perfect predictor has a score of 1. Now check the best hyperparameters found in the grid search:\n",
    "\n",
    "grid_sgd.best_params_"
   ]
  },
  {
   "cell_type": "code",
   "execution_count": 70,
   "id": "4d96b54f",
   "metadata": {},
   "outputs": [],
   "source": [
    "#So the linear SVC performed better than logistic regression, and with a high level of regularization ( α≈483 )."
   ]
  },
  {
   "cell_type": "code",
   "execution_count": 71,
   "id": "f2e03778",
   "metadata": {},
   "outputs": [],
   "source": [
    "#Random Forest\n",
    "#Next we'll try a random forest model, implemented in RandomForestClassifier.\n",
    "\n",
    "from sklearn.ensemble import RandomForestClassifier"
   ]
  },
  {
   "cell_type": "code",
   "execution_count": 72,
   "id": "e0dfc6f0",
   "metadata": {},
   "outputs": [],
   "source": [
    "#The random forest takes much longer to train on this fairly large dataset, so we don't actually do a hyperparameter grid search, only specifiying the number of estimators. We'll leave the grid search implemented in case we decide to try different hyperparameter values in the future"
   ]
  },
  {
   "cell_type": "code",
   "execution_count": 75,
   "id": "9ad0ce7f",
   "metadata": {},
   "outputs": [],
   "source": [
    "pipeline_rf = Pipeline([\n",
    "    ('model', RandomForestClassifier(n_jobs=-1, random_state=1))\n",
    "])"
   ]
  },
  {
   "cell_type": "code",
   "execution_count": 76,
   "id": "7910424a",
   "metadata": {},
   "outputs": [],
   "source": [
    "param_grid_rf = {'model__n_estimators': [75]}"
   ]
  },
  {
   "cell_type": "code",
   "execution_count": 77,
   "id": "3c3f7894",
   "metadata": {},
   "outputs": [],
   "source": [
    "grid_rf = GridSearchCV(estimator=pipeline_rf, param_grid=param_grid_rf, scoring=MCC_scorer, n_jobs=-1, pre_dispatch='2*n_jobs', cv=5, verbose=1, return_train_score=False)"
   ]
  },
  {
   "cell_type": "code",
   "execution_count": 78,
   "id": "9dccc869",
   "metadata": {},
   "outputs": [
    {
     "name": "stdout",
     "output_type": "stream",
     "text": [
      "Fitting 5 folds for each of 1 candidates, totalling 5 fits\n"
     ]
    },
    {
     "data": {
      "text/plain": [
       "GridSearchCV(cv=5,\n",
       "             estimator=Pipeline(steps=[('model',\n",
       "                                        RandomForestClassifier(n_jobs=-1,\n",
       "                                                               random_state=1))]),\n",
       "             n_jobs=-1, param_grid={'model__n_estimators': [75]},\n",
       "             scoring=make_scorer(matthews_corrcoef), verbose=1)"
      ]
     },
     "execution_count": 78,
     "metadata": {},
     "output_type": "execute_result"
    }
   ],
   "source": [
    "#Perform the grid search:\n",
    "\n",
    "grid_rf.fit(X_train, y_train)"
   ]
  },
  {
   "cell_type": "code",
   "execution_count": 79,
   "id": "827b3453",
   "metadata": {},
   "outputs": [
    {
     "data": {
      "text/plain": [
       "0.8596447282953857"
      ]
     },
     "execution_count": 79,
     "metadata": {},
     "output_type": "execute_result"
    }
   ],
   "source": [
    "grid_rf.best_score_"
   ]
  },
  {
   "cell_type": "code",
   "execution_count": 80,
   "id": "870eb09d",
   "metadata": {},
   "outputs": [
    {
     "data": {
      "text/plain": [
       "{'model__n_estimators': 75}"
      ]
     },
     "execution_count": 80,
     "metadata": {},
     "output_type": "execute_result"
    }
   ],
   "source": [
    "grid_rf.best_params_"
   ]
  },
  {
   "cell_type": "code",
   "execution_count": null,
   "id": "89abd4a0",
   "metadata": {},
   "outputs": [],
   "source": [
    "#Test Set Evaluation of the Best Model\n",
    "#According to the cross-validated MCC scores, the random forest is the best-performing model, so now let's evaluate its performance on the test set.\n"
   ]
  },
  {
   "cell_type": "code",
   "execution_count": 81,
   "id": "906e4cf1",
   "metadata": {},
   "outputs": [],
   "source": [
    "from sklearn.metrics import confusion_matrix, classification_report, matthews_corrcoef, cohen_kappa_score, accuracy_score, average_precision_score, roc_auc_score"
   ]
  },
  {
   "cell_type": "code",
   "execution_count": 83,
   "id": "8322f43e",
   "metadata": {},
   "outputs": [],
   "source": [
    "def classification_eval(estimator, X_test, y_test):\n",
    "    \"\"\"\n",
    "    Print several metrics of classification performance of an estimator, given features X_test and true labels y_test.\n",
    "    \n",
    "    Input: estimator or GridSearchCV instance, X_test, y_test\n",
    "    Returns: text printout of metrics\n",
    "    \"\"\"\n",
    "    y_pred = estimator.predict(X_test)\n",
    "    \n",
    "    # Number of decimal places based on number of samples\n",
    "    dec = np.int64(np.ceil(np.log10(len(y_test))))\n",
    "    \n",
    "    print('CONFUSION MATRIX')\n",
    "    print(confusion_matrix(y_test, y_pred), '\\n')\n",
    "    \n",
    "    print('CLASSIFICATION REPORT')\n",
    "    print(classification_report(y_test, y_pred, digits=dec))\n",
    "    \n",
    "    print('SCALAR METRICS')\n",
    "    format_str = '%%13s = %%.%if' % dec\n",
    "    print(format_str % ('MCC', matthews_corrcoef(y_test, y_pred)))\n",
    "    if y_test.nunique() <= 2: # Additional metrics for binary classification\n",
    "        try:\n",
    "            y_score = estimator.predict_proba(X_test)[:,1]\n",
    "        except:\n",
    "            y_score = estimator.decision_function(X_test)\n",
    "        print(format_str % ('AUPRC', average_precision_score(y_test, y_score)))\n",
    "        print(format_str % ('AUROC', roc_auc_score(y_test, y_score)))\n",
    "    print(format_str % (\"Cohen's kappa\", cohen_kappa_score(y_test, y_pred)))\n",
    "    print(format_str % ('Accuracy', accuracy_score(y_test, y_pred)))"
   ]
  },
  {
   "cell_type": "code",
   "execution_count": 84,
   "id": "a9a55495",
   "metadata": {},
   "outputs": [
    {
     "name": "stdout",
     "output_type": "stream",
     "text": [
      "CONFUSION MATRIX\n",
      "[[56854    10]\n",
      " [   15    83]] \n",
      "\n",
      "CLASSIFICATION REPORT\n",
      "              precision    recall  f1-score   support\n",
      "\n",
      "           0    0.99974   0.99982   0.99978     56864\n",
      "           1    0.89247   0.84694   0.86911        98\n",
      "\n",
      "    accuracy                        0.99956     56962\n",
      "   macro avg    0.94610   0.92338   0.93445     56962\n",
      "weighted avg    0.99955   0.99956   0.99956     56962\n",
      "\n",
      "SCALAR METRICS\n",
      "          MCC = 0.86919\n",
      "        AUPRC = 0.85098\n",
      "        AUROC = 0.95924\n",
      "Cohen's kappa = 0.86889\n",
      "     Accuracy = 0.99956\n"
     ]
    }
   ],
   "source": [
    "classification_eval(grid_rf, X_test, y_test)"
   ]
  },
  {
   "cell_type": "code",
   "execution_count": null,
   "id": "544edd02",
   "metadata": {},
   "outputs": [],
   "source": [
    "#According to the MCC, the random forest performed better on the test set than on the training set. This is probably due to the refit model being trained on the entire training data set, and not on the smaller CV folds."
   ]
  },
  {
   "cell_type": "code",
   "execution_count": null,
   "id": "1122b2d5",
   "metadata": {},
   "outputs": [],
   "source": [
    "#. Conclusion\n",
    "#We were able to accurately identify fraudulent credit card transactions using a random forest model. We found that the five variables most correlated with fraud are, in decreasing order, V17, V14, V10, V12, and V11. Only a few preprocessing steps were necessary before constructing predictive models:\n",
    "\n",
    "#Split the data using a random, stratified train/test split with a test size of 20%\n",
    "#Box-Cox power transform of the transaction amounts to remove skewness in the data\n",
    "#Mean and variance standardization of all features as part of a machine learning pipeline\n",
    "#We used the Matthews correlation coefficient (MCC) to compare the performance of different models. In cross validation, the best linear model (logistic regression, linear SVC) achieved a cross-validated MCC score of 0.807, and a random forest achieved a cross-validated MCC score of 0.856. We therefore chose the random forest as the better model, which obtained an MCC of 0.869 on the test set.\n",
    "\n",
    "#To improve a chosen model, we searched over a grid of hyperparameters and compared performance with cross-validation. It may be possible to improve the random forest model by further tweaking the hyperparameters, given additional time and/or computational power.\n"
   ]
  }
 ],
 "metadata": {
  "kernelspec": {
   "display_name": "Python 3 (ipykernel)",
   "language": "python",
   "name": "python3"
  },
  "language_info": {
   "codemirror_mode": {
    "name": "ipython",
    "version": 3
   },
   "file_extension": ".py",
   "mimetype": "text/x-python",
   "name": "python",
   "nbconvert_exporter": "python",
   "pygments_lexer": "ipython3",
   "version": "3.9.7"
  }
 },
 "nbformat": 4,
 "nbformat_minor": 5
}
